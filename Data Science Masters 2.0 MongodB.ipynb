{
 "cells": [
  {
   "cell_type": "markdown",
   "metadata": {},
   "source": [
    "<div style=\"border-radius:10px;\n",
    "            border:#0b0265 solid;\n",
    "           background-color:#0077be;\n",
    "           font-size:110%;\n",
    "           letter-spacing:0.5px;\n",
    "            text-align: center\">\n",
    "\n",
    "<center><h1 style=\"padding: 25px 0px; background color:#0077be; font-weight: bold; font-family: Cursive\">\n",
    "Data Science Masters 2.0 MongodB</h1></center>\n",
    "\n",
    "</div>"
   ]
  },
  {
   "cell_type": "markdown",
   "metadata": {},
   "source": [
    "## Q1. What is MongoDB? Explain non-relational databases in short. In which scenarios it is preferred to use MongoDB over SQL databases?"
   ]
  },
  {
   "cell_type": "markdown",
   "metadata": {},
   "source": [
    "MongoDB is a popular open-source NoSQL (non-relational) database management system that provides high performance, scalability, and flexibility for handling large volumes of unstructured or semi-structured data. Unlike traditional SQL databases, which use structured tables with fixed schemas, MongoDB stores data in flexible JSON-like documents with dynamic schemas.\n",
    "\n",
    "Non-relational databases, also known as NoSQL databases, are designed to handle diverse data types and provide horizontal scalability, making them suitable for handling big data and real-time applications. They are often used in scenarios where traditional relational databases may struggle, such as:\n",
    "\n",
    "1. Big Data: Non-relational databases excel at handling massive amounts of data that may not fit neatly into a tabular structure. They can efficiently store and process large volumes of unstructured or semi-structured data.\n",
    "\n",
    "2. Flexibility: Non-relational databases allow for flexible schema design, enabling developers to quickly adapt and modify the database structure as application requirements evolve. This makes them suitable for agile development and rapid iteration.\n",
    "\n",
    "3. Scalability: Non-relational databases offer horizontal scalability, which means they can distribute data across multiple servers to handle high traffic loads. This makes them well-suited for scaling web applications and accommodating growing user bases.\n",
    "\n",
    "4. Performance: Non-relational databases prioritize performance by using optimized data structures and distributed architectures. They can provide fast read/write operations and handle high throughput, making them suitable for real-time applications that require quick response times.\n",
    "\n",
    "5. Unstructured Data: Non-relational databases are efficient in storing and querying unstructured or semi-structured data, such as JSON documents, XML, key-value pairs, or graph structures. This makes them ideal for applications dealing with social media data, log files, IoT sensor data, and other similar use cases.\n",
    "\n",
    "MongoDB, in particular, offers additional benefits and features that make it a popular choice in the NoSQL realm:\n",
    "\n",
    "1. Document Model: MongoDB stores data in flexible JSON-like documents, allowing for nested structures and dynamic schemas. This makes it easy to represent complex data and adapt the data model as needed.\n",
    "\n",
    "2. Replication and Sharding: MongoDB supports replica sets for high availability and automatic failover. It also provides sharding capabilities, allowing data to be distributed across multiple servers to handle large data volumes and high traffic loads.\n",
    "\n",
    "3. Rich Query Language: MongoDB's query language provides powerful querying capabilities, including support for complex queries, indexing, aggregation, and geospatial queries.\n",
    "\n",
    "4. Horizontal Scalability: MongoDB's architecture allows for seamless scaling by distributing data across multiple nodes or clusters. It can handle high write and read throughput while maintaining data consistency.\n"
   ]
  },
  {
   "cell_type": "markdown",
   "metadata": {},
   "source": [
    "## Q2. State and Explain the features of MongoDB."
   ]
  },
  {
   "cell_type": "markdown",
   "metadata": {},
   "source": [
    "MongoDB offers several key features that make it a popular choice among developers and organizations. Here are some of the main features of MongoDB:\n",
    "\n",
    "1. Document-Oriented: MongoDB is a document-oriented database, which means it stores data in flexible, self-describing JSON-like documents called BSON (Binary JSON). This allows for easy storage and retrieval of complex, hierarchical data structures.\n",
    "\n",
    "2. Flexible Schema: MongoDB has a dynamic schema that allows for the storage of different types of data within the same collection. Each document can have its own unique structure, providing flexibility in handling evolving data models.\n",
    "\n",
    "3. Scalability and High Availability: MongoDB supports horizontal scalability through sharding, allowing data to be distributed across multiple servers or clusters. It also provides replica sets, which enable automatic failover and high availability for improved data reliability.\n",
    "\n",
    "4. Rich Query Language: MongoDB's query language offers a wide range of querying capabilities. It supports complex queries, indexing, sorting, aggregation, text search, and geospatial queries. The query language is expressive and allows for powerful data manipulation and retrieval.\n",
    "\n",
    "5. Indexing and Aggregation: MongoDB supports various types of indexes, including single-field, compound, geospatial, and text indexes. Indexes improve query performance and enable efficient data retrieval. MongoDB also provides a powerful aggregation framework for performing advanced data aggregation operations, such as grouping, filtering, and transforming data.\n",
    "\n",
    "6. GridFS: MongoDB includes GridFS, a file storage system that allows for storing and retrieving large files, such as images, videos, and audio files, as separate documents. GridFS provides efficient streaming and retrieval of files in a distributed database environment.\n",
    "\n",
    "7. Full-Text Search: MongoDB offers full-text search capabilities, allowing for efficient and accurate text search across large collections of documents. It supports features like stemming, text indexing, relevance scoring, and search modifiers.\n",
    "\n",
    "8. Geospatial Capabilities: MongoDB has built-in support for geospatial data and queries. It can store and index geographic coordinates, perform spatial queries like finding nearby locations or calculating distances, and support complex geospatial operations.\n",
    "\n",
    "9. Transactions: Starting from MongoDB version 4.0, it supports multi-document ACID (Atomicity, Consistency, Isolation, Durability) transactions, allowing for atomic operations across multiple documents or collections. Transactions ensure data integrity and consistency in complex, multi-step operations.\n",
    "\n",
    "10. Community and Ecosystem: MongoDB has a thriving community and a rich ecosystem of libraries, frameworks, and tools. It provides official drivers for various programming languages, extensive documentation, and active community support.\n",
    "\n",
    "These features make MongoDB a powerful and flexible database solution, particularly suitable for handling large volumes of unstructured or semi-structured data, real-time applications, and scenarios that require scalability, high availability, and dynamic data models."
   ]
  },
  {
   "cell_type": "markdown",
   "metadata": {},
   "source": [
    "## Q3. Write a code to connect MongoDB to Python. Also, create a database and a collection in MongoDB."
   ]
  },
  {
   "cell_type": "code",
   "execution_count": 1,
   "metadata": {},
   "outputs": [
    {
     "name": "stdout",
     "output_type": "stream",
     "text": [
      "Collecting pymongoNote: you may need to restart the kernel to use updated packages.\n",
      "\n",
      "  Downloading pymongo-4.4.0-cp38-cp38-win_amd64.whl (453 kB)\n",
      "Collecting dnspython<3.0.0,>=1.16.0\n",
      "  Downloading dnspython-2.3.0-py3-none-any.whl (283 kB)\n",
      "Installing collected packages: dnspython, pymongo\n",
      "Successfully installed dnspython-2.3.0 pymongo-4.4.0\n"
     ]
    }
   ],
   "source": [
    "pip install pymongo"
   ]
  },
  {
   "cell_type": "code",
   "execution_count": 2,
   "metadata": {},
   "outputs": [],
   "source": [
    "import pymongo\n",
    "\n",
    "# Establish a connection to MongoDB\n",
    "client = pymongo.MongoClient(\"mongodb://localhost:27017\")\n",
    "\n",
    "# Create/connect to a database\n",
    "mydb = client[\"mydatabase\"]\n",
    "\n",
    "# Create/connect to a collection\n",
    "mycol = mydb[\"mycollection\"]\n",
    "\n",
    "# Perform operations on the collection\n",
    "# For example, insert a document\n",
    "data = {\"name\": \"John Doe\", \"age\": 30}\n",
    "mycol.insert_one(data)\n",
    "\n",
    "# Close the MongoDB connection\n",
    "client.close()\n"
   ]
  },
  {
   "cell_type": "code",
   "execution_count": 3,
   "metadata": {},
   "outputs": [
    {
     "data": {
      "text/plain": [
       "Collection(Database(MongoClient(host=['localhost:27017'], document_class=dict, tz_aware=False, connect=True), 'mydatabase'), 'mycollection')"
      ]
     },
     "execution_count": 3,
     "metadata": {},
     "output_type": "execute_result"
    }
   ],
   "source": [
    "mycol"
   ]
  },
  {
   "cell_type": "code",
   "execution_count": 4,
   "metadata": {},
   "outputs": [
    {
     "data": {
      "text/plain": [
       "{'name': 'John Doe', 'age': 30, '_id': ObjectId('649e65bdeddd1ab56abc173e')}"
      ]
     },
     "execution_count": 4,
     "metadata": {},
     "output_type": "execute_result"
    }
   ],
   "source": [
    "data"
   ]
  },
  {
   "cell_type": "markdown",
   "metadata": {},
   "source": [
    "## Q4. Using the database and the collection created in question number 3, write a code to insert one record,and insert many records. Use the find() and find_one() methods to print the inserted record."
   ]
  },
  {
   "cell_type": "code",
   "execution_count": 5,
   "metadata": {},
   "outputs": [
    {
     "name": "stdout",
     "output_type": "stream",
     "text": [
      "Inserted ID: 649e66b9eddd1ab56abc1740\n",
      "Inserted IDs: [ObjectId('649e66b9eddd1ab56abc1741'), ObjectId('649e66b9eddd1ab56abc1742'), ObjectId('649e66b9eddd1ab56abc1743')]\n",
      "Inserted Record (find_one):\n",
      "{'_id': ObjectId('649e66b9eddd1ab56abc1740'), 'name': 'Alice', 'age': 25}\n",
      "\n",
      "Inserted Records (find):\n",
      "{'_id': ObjectId('649e66b9eddd1ab56abc1741'), 'name': 'Bob', 'age': 30}\n",
      "{'_id': ObjectId('649e66b9eddd1ab56abc1742'), 'name': 'Charlie', 'age': 35}\n",
      "{'_id': ObjectId('649e66b9eddd1ab56abc1743'), 'name': 'Dave', 'age': 40}\n"
     ]
    }
   ],
   "source": [
    "import pymongo\n",
    "\n",
    "# Establish a connection to MongoDB\n",
    "client = pymongo.MongoClient(\"mongodb://localhost:27017\")\n",
    "\n",
    "# Access the database and collection\n",
    "mydb = client[\"mydatabase\"]\n",
    "mycol = mydb[\"mycollection\"]\n",
    "\n",
    "# Insert one record\n",
    "data_one = {\"name\": \"Alice\", \"age\": 25}\n",
    "result_one = mycol.insert_one(data_one)\n",
    "print(\"Inserted ID:\", result_one.inserted_id)\n",
    "\n",
    "# Insert multiple records\n",
    "data_many = [\n",
    "    {\"name\": \"Bob\", \"age\": 30},\n",
    "    {\"name\": \"Charlie\", \"age\": 35},\n",
    "    {\"name\": \"Dave\", \"age\": 40}\n",
    "]\n",
    "result_many = mycol.insert_many(data_many)\n",
    "print(\"Inserted IDs:\", result_many.inserted_ids)\n",
    "\n",
    "# Find and print the inserted records\n",
    "print(\"Inserted Record (find_one):\")\n",
    "record_one = mycol.find_one({\"_id\": result_one.inserted_id})\n",
    "print(record_one)\n",
    "\n",
    "print(\"\\nInserted Records (find):\")\n",
    "records_many = mycol.find({\"_id\": {\"$in\": result_many.inserted_ids}})\n",
    "for record in records_many:\n",
    "    print(record)\n",
    "\n",
    "# Close the MongoDB connection\n",
    "client.close()"
   ]
  },
  {
   "cell_type": "markdown",
   "metadata": {},
   "source": [
    "## Q5. Explain how you can use the find() method to query the MongoDB database. Write a simple code to demonstrate this."
   ]
  },
  {
   "cell_type": "markdown",
   "metadata": {},
   "source": [
    "The find() method in MongoDB is used to query the database and retrieve documents that match specific criteria. It allows you to specify one or more conditions using a query object, which is a JSON-like structure that defines the filtering criteria. The find() method returns a cursor object that can be iterated to access the matching documents."
   ]
  },
  {
   "cell_type": "code",
   "execution_count": 6,
   "metadata": {},
   "outputs": [
    {
     "name": "stdout",
     "output_type": "stream",
     "text": [
      "{'_id': ObjectId('649e66b9eddd1ab56abc1742'), 'name': 'Charlie', 'age': 35}\n",
      "{'_id': ObjectId('649e66b9eddd1ab56abc1743'), 'name': 'Dave', 'age': 40}\n"
     ]
    }
   ],
   "source": [
    "import pymongo\n",
    "\n",
    "# Establish a connection to MongoDB\n",
    "client = pymongo.MongoClient(\"mongodb://localhost:27017\")\n",
    "\n",
    "# Access the database and collection\n",
    "mydb = client[\"mydatabase\"]\n",
    "mycol = mydb[\"mycollection\"]\n",
    "\n",
    "# Find documents that match specific criteria\n",
    "query = {\"age\": {\"$gt\": 30}}  # Find documents where \"age\" is greater than 30\n",
    "cursor = mycol.find(query)\n",
    "\n",
    "# Iterate over the matching documents and print them\n",
    "for document in cursor:\n",
    "    print(document)\n",
    "\n",
    "# Close the MongoDB connection\n",
    "client.close()"
   ]
  },
  {
   "cell_type": "markdown",
   "metadata": {},
   "source": [
    "## Q6. Explain the sort() method. Give an example to demonstrate sorting in MongoDB."
   ]
  },
  {
   "cell_type": "markdown",
   "metadata": {},
   "source": [
    "The sort() method in MongoDB is used to sort the result set of a query based on one or more fields. It allows you to specify the sorting order as ascending or descending for each field. By default, the sort() method sorts the documents in ascending order."
   ]
  },
  {
   "cell_type": "code",
   "execution_count": 7,
   "metadata": {},
   "outputs": [
    {
     "name": "stdout",
     "output_type": "stream",
     "text": [
      "Documents in Ascending Order:\n",
      "{'_id': ObjectId('649e66b9eddd1ab56abc1740'), 'name': 'Alice', 'age': 25}\n",
      "{'_id': ObjectId('649e65bdeddd1ab56abc173e'), 'name': 'John Doe', 'age': 30}\n",
      "{'_id': ObjectId('649e66b9eddd1ab56abc1741'), 'name': 'Bob', 'age': 30}\n",
      "{'_id': ObjectId('649e66b9eddd1ab56abc1742'), 'name': 'Charlie', 'age': 35}\n",
      "{'_id': ObjectId('649e66b9eddd1ab56abc1743'), 'name': 'Dave', 'age': 40}\n",
      "\n",
      "Documents in Descending Order:\n",
      "{'_id': ObjectId('649e66b9eddd1ab56abc1743'), 'name': 'Dave', 'age': 40}\n",
      "{'_id': ObjectId('649e66b9eddd1ab56abc1742'), 'name': 'Charlie', 'age': 35}\n",
      "{'_id': ObjectId('649e65bdeddd1ab56abc173e'), 'name': 'John Doe', 'age': 30}\n",
      "{'_id': ObjectId('649e66b9eddd1ab56abc1741'), 'name': 'Bob', 'age': 30}\n",
      "{'_id': ObjectId('649e66b9eddd1ab56abc1740'), 'name': 'Alice', 'age': 25}\n"
     ]
    }
   ],
   "source": [
    "import pymongo\n",
    "\n",
    "# Establish a connection to MongoDB\n",
    "client = pymongo.MongoClient(\"mongodb://localhost:27017\")\n",
    "\n",
    "# Access the database and collection\n",
    "mydb = client[\"mydatabase\"]\n",
    "mycol = mydb[\"mycollection\"]\n",
    "\n",
    "# Sort the documents in ascending order\n",
    "ascending_order = [(\"age\", pymongo.ASCENDING)]  # Sort by \"age\" field in ascending order\n",
    "ascending_cursor = mycol.find().sort(ascending_order)\n",
    "\n",
    "print(\"Documents in Ascending Order:\")\n",
    "for document in ascending_cursor:\n",
    "    print(document)\n",
    "\n",
    "# Sort the documents in descending order\n",
    "descending_order = [(\"age\", pymongo.DESCENDING)]  # Sort by \"age\" field in descending order\n",
    "descending_cursor = mycol.find().sort(descending_order)\n",
    "\n",
    "print(\"\\nDocuments in Descending Order:\")\n",
    "for document in descending_cursor:\n",
    "    print(document)\n",
    "\n",
    "# Close the MongoDB connection\n",
    "client.close()"
   ]
  },
  {
   "cell_type": "markdown",
   "metadata": {},
   "source": [
    "## Q7. Explain why delete_one(), delete_many(), and drop() is used."
   ]
  },
  {
   "cell_type": "markdown",
   "metadata": {},
   "source": [
    "In MongoDB, the delete_one(), delete_many(), and drop() methods are used to remove documents or collections from the database. Here's an explanation of each method and its purpose:\n",
    "\n",
    "delete_one(filter): This method is used to delete a single document that matches a specified filter condition. It takes a filter parameter, which is a query object specifying the criteria for the document(s) to be deleted. If multiple documents match the filter, only the first one encountered will be deleted. The delete_one() method returns a DeleteResult object that provides information about the deletion operation."
   ]
  },
  {
   "cell_type": "code",
   "execution_count": 9,
   "metadata": {},
   "outputs": [
    {
     "name": "stdout",
     "output_type": "stream",
     "text": [
      "Deleted Count: 0\n"
     ]
    }
   ],
   "source": [
    "import pymongo\n",
    "\n",
    "# Establish a connection to MongoDB\n",
    "client = pymongo.MongoClient(\"mongodb://localhost:27017\")\n",
    "\n",
    "# Access the database and collection\n",
    "mydb = client[\"mydatabase\"]\n",
    "mycol = mydb[\"mycollection\"]\n",
    "\n",
    "# Delete one document\n",
    "result = mycol.delete_one({\"name\": \"John\"})\n",
    "print(\"Deleted Count:\", result.deleted_count)\n",
    "\n",
    "# Close the MongoDB connection (after the operations are completed)\n",
    "client.close()"
   ]
  },
  {
   "cell_type": "markdown",
   "metadata": {},
   "source": [
    "delete_many(filter): This method is used to delete multiple documents that match a specified filter condition. It takes a filter parameter, similar to delete_one(), to specify the criteria for document deletion. The delete_many() method returns a DeleteResult object with information about the deletion operation."
   ]
  },
  {
   "cell_type": "code",
   "execution_count": 11,
   "metadata": {},
   "outputs": [
    {
     "name": "stdout",
     "output_type": "stream",
     "text": [
      "Deleted Count: 1\n"
     ]
    }
   ],
   "source": [
    "import pymongo\n",
    "\n",
    "# Establish a connection to MongoDB\n",
    "client = pymongo.MongoClient(\"mongodb://localhost:27017\")\n",
    "\n",
    "# Access the database and collection\n",
    "mydb = client[\"mydatabase\"]\n",
    "mycol = mydb[\"mycollection\"]\n",
    "\n",
    "# Delete multiple documents\n",
    "result = mycol.delete_many({\"age\": {\"$lt\": 30}})\n",
    "print(\"Deleted Count:\", result.deleted_count)\n",
    "\n",
    "# Close the MongoDB connection (after the operations are completed)\n",
    "client.close()"
   ]
  },
  {
   "cell_type": "markdown",
   "metadata": {},
   "source": [
    "drop(): This method is used to remove an entire collection from the database. It does not take any parameters and simply removes the collection, including all its documents and indexes. After executing drop(), the collection will no longer exist in the database."
   ]
  },
  {
   "cell_type": "code",
   "execution_count": 13,
   "metadata": {},
   "outputs": [],
   "source": [
    "import pymongo\n",
    "\n",
    "# Establish a connection to MongoDB\n",
    "client = pymongo.MongoClient(\"mongodb://localhost:27017\")\n",
    "\n",
    "# Access the database and collection\n",
    "mydb = client[\"mydatabase\"]\n",
    "mycol = mydb[\"mycollection\"]\n",
    "\n",
    "# Drop the collection\n",
    "mycol.drop()\n",
    "\n",
    "# Close the MongoDB connection (after the operations are completed)\n",
    "client.close()"
   ]
  }
 ],
 "metadata": {
  "kernelspec": {
   "display_name": "Python 3",
   "language": "python",
   "name": "python3"
  },
  "language_info": {
   "codemirror_mode": {
    "name": "ipython",
    "version": 3
   },
   "file_extension": ".py",
   "mimetype": "text/x-python",
   "name": "python",
   "nbconvert_exporter": "python",
   "pygments_lexer": "ipython3",
   "version": "3.8.5"
  }
 },
 "nbformat": 4,
 "nbformat_minor": 4
}
