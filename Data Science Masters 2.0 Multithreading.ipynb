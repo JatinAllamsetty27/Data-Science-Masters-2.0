{
 "cells": [
  {
   "cell_type": "markdown",
   "metadata": {},
   "source": [
    "<div style=\"border-radius:10px;\n",
    "            border:#0b0265 solid;\n",
    "           background-color:#0077be;\n",
    "           font-size:110%;\n",
    "           letter-spacing:0.5px;\n",
    "            text-align: center\">\n",
    "\n",
    "<center><h1 style=\"padding: 25px 0px; background color:#0077be; font-weight: bold; font-family: Cursive\">\n",
    "Data Science Masters 2.0 Multithreading</h1></center>\n",
    "\n",
    "</div>"
   ]
  },
  {
   "cell_type": "markdown",
   "metadata": {},
   "source": [
    "## Q1. What is multithreading in python? Why is it used? Name the module used to handle threads in python"
   ]
  },
  {
   "cell_type": "markdown",
   "metadata": {},
   "source": [
    "**Multithreading** in Python refers to the concurrent execution of multiple threads within a single program. A thread is a lightweight process that can execute independently, allowing multiple tasks to be performed concurrently. The threading module in Python is used to handle threads and facilitate multithreading.\n",
    "\n",
    "Multithreading is used in Python for the following reasons:\n",
    "\n",
    "**Concurrency:** Multithreading enables the execution of multiple tasks concurrently, improving the overall performance and responsiveness of an application. It allows programs to efficiently utilize system resources by executing tasks simultaneously, especially when tasks involve waiting for input/output operations or performing computationally intensive operations.\n",
    "\n",
    "**Responsiveness:** By utilizing threads, long-running or blocking operations can be executed in the background, allowing the main program to remain responsive and continue executing other tasks. This is particularly useful in scenarios where certain operations may take significant time, such as network communication, file I/O, or database queries.\n",
    "\n",
    "**Parallelism:** In Python, multithreading does not provide true parallelism due to the Global Interpreter Lock (GIL). However, it can still be beneficial in certain situations, such as when performing CPU-bound tasks that release the GIL or when utilizing external libraries or modules that release the GIL.\n",
    "\n",
    "The threading module is used to handle threads in Python. It provides classes and functions to create, manage, and synchronize threads. The Thread class is the primary class used to create and manage threads. Other classes and functions in the threading module, such as Lock, Semaphore, and Event, are used for thread synchronization and coordination."
   ]
  },
  {
   "cell_type": "code",
   "execution_count": 3,
   "metadata": {},
   "outputs": [
    {
     "name": "stdout",
     "output_type": "stream",
     "text": [
      "1\n",
      "2\n",
      "3\n",
      "Main program continues...4\n",
      "5\n",
      "\n"
     ]
    }
   ],
   "source": [
    "import threading\n",
    "\n",
    "def print_numbers():\n",
    "    for i in range(1, 6):\n",
    "        print(i)\n",
    "\n",
    "# Create a new thread\n",
    "thread = threading.Thread(target=print_numbers)\n",
    "\n",
    "# Start the thread\n",
    "thread.start()\n",
    "\n",
    "# Continue with the main program\n",
    "print(\"Main program continues...\")"
   ]
  },
  {
   "cell_type": "markdown",
   "metadata": {},
   "source": [
    "## Q2. Why threading module used? Write the use of the following functions 1.activeCount() 2.currentThread() 3.enumerate()"
   ]
  },
  {
   "cell_type": "markdown",
   "metadata": {},
   "source": [
    "The threading module in Python is used to handle threads and facilitate multithreading. It provides classes and functions to create, manage, and synchronize threads. Here's an explanation of the following functions provided by the threading module:\n",
    "\n",
    "**activeCount():** The activeCount() function returns the number of currently active threads in the program. An active thread refers to a thread that has been started but has not yet finished or been terminated."
   ]
  },
  {
   "cell_type": "code",
   "execution_count": 4,
   "metadata": {},
   "outputs": [
    {
     "name": "stdout",
     "output_type": "stream",
     "text": [
      "Task executed by thread\n",
      "Task executed by threadActive threads: \n",
      "6\n"
     ]
    }
   ],
   "source": [
    "import threading\n",
    "\n",
    "def task():\n",
    "    print(\"Task executed by thread\")\n",
    "\n",
    "# Create and start multiple threads\n",
    "thread1 = threading.Thread(target=task)\n",
    "thread2 = threading.Thread(target=task)\n",
    "thread1.start()\n",
    "thread2.start()\n",
    "\n",
    "# Get the number of active threads\n",
    "active_threads = threading.activeCount()\n",
    "print(\"Active threads:\", active_threads)"
   ]
  },
  {
   "cell_type": "markdown",
   "metadata": {},
   "source": [
    "**currentThread():** The currentThread() function returns the currently executing thread object. It allows you to access properties and methods of the thread from within the thread itself."
   ]
  },
  {
   "cell_type": "code",
   "execution_count": 5,
   "metadata": {},
   "outputs": [
    {
     "name": "stdout",
     "output_type": "stream",
     "text": [
      "Current thread: Thread-9\n"
     ]
    }
   ],
   "source": [
    "import threading\n",
    "\n",
    "def task():\n",
    "    current_thread = threading.currentThread()\n",
    "    thread_name = current_thread.getName()\n",
    "    print(\"Current thread:\", thread_name)\n",
    "\n",
    "# Create and start a thread\n",
    "thread = threading.Thread(target=task)\n",
    "thread.start()"
   ]
  },
  {
   "cell_type": "markdown",
   "metadata": {},
   "source": [
    "**enumerate():** The enumerate() function returns a list of all currently active Thread objects. Each Thread object represents an active thread in the program."
   ]
  },
  {
   "cell_type": "code",
   "execution_count": 6,
   "metadata": {},
   "outputs": [
    {
     "name": "stdout",
     "output_type": "stream",
     "text": [
      "Task executed by thread\n",
      "Task executed by threadActive threads: [<_MainThread(MainThread, started 6284)>, <Thread(Thread-4, started daemon 11072)>, <Heartbeat(Thread-5, started daemon 7744)>, <HistorySavingThread(IPythonHistorySavingThread, started 7652)>, <ParentPollerWindows(Thread-3, started daemon 25240)>, <Thread(Thread-11, started 24848)>]\n",
      "\n"
     ]
    }
   ],
   "source": [
    "import threading\n",
    "\n",
    "def task():\n",
    "    print(\"Task executed by thread\")\n",
    "\n",
    "# Create and start multiple threads\n",
    "thread1 = threading.Thread(target=task)\n",
    "thread2 = threading.Thread(target=task)\n",
    "thread1.start()\n",
    "thread2.start()\n",
    "\n",
    "# Get a list of active threads\n",
    "thread_list = threading.enumerate()\n",
    "print(\"Active threads:\", thread_list)"
   ]
  },
  {
   "cell_type": "markdown",
   "metadata": {},
   "source": [
    "## Q3. Explain the following functions\n",
    "#### 1.run\n",
    "#### 2.start\n",
    "#### 3.join\n",
    "#### 4.isAlive"
   ]
  },
  {
   "cell_type": "markdown",
   "metadata": {},
   "source": [
    "**run:** The run function is not a specific function of the threading module, but rather a method that can be overridden in a custom thread class. When a thread object is created and its start method is called, the run method of that thread is executed. It contains the code that defines the behavior of the thread."
   ]
  },
  {
   "cell_type": "code",
   "execution_count": 7,
   "metadata": {},
   "outputs": [
    {
     "name": "stdout",
     "output_type": "stream",
     "text": [
      "Thread execution\n"
     ]
    }
   ],
   "source": [
    "import threading\n",
    "\n",
    "class MyThread(threading.Thread):\n",
    "    def run(self):\n",
    "        print(\"Thread execution\")\n",
    "\n",
    "# Create and start a custom thread\n",
    "thread = MyThread()\n",
    "thread.start()"
   ]
  },
  {
   "cell_type": "markdown",
   "metadata": {},
   "source": [
    "**start:** The start method is used to start the execution of a thread. It initializes the thread and calls its run method. Once the start method is called, the thread enters the \"runnable\" state, and the code defined in the run method is executed concurrently with other threads."
   ]
  },
  {
   "cell_type": "code",
   "execution_count": 8,
   "metadata": {},
   "outputs": [
    {
     "name": "stdout",
     "output_type": "stream",
     "text": [
      "Task executed by thread\n"
     ]
    }
   ],
   "source": [
    "import threading\n",
    "\n",
    "def task():\n",
    "    print(\"Task executed by thread\")\n",
    "\n",
    "# Create and start a thread\n",
    "thread = threading.Thread(target=task)\n",
    "thread.start()"
   ]
  },
  {
   "cell_type": "markdown",
   "metadata": {},
   "source": [
    "**join:** The join method is used to wait for a thread to complete its execution. It blocks the calling thread until the target thread has finished. By calling join, you can ensure that the main thread waits for other threads to complete before proceeding."
   ]
  },
  {
   "cell_type": "code",
   "execution_count": 9,
   "metadata": {},
   "outputs": [
    {
     "name": "stdout",
     "output_type": "stream",
     "text": [
      "Task executed by thread\n",
      "Main thread continues...\n"
     ]
    }
   ],
   "source": [
    "import threading\n",
    "\n",
    "def task():\n",
    "    print(\"Task executed by thread\")\n",
    "\n",
    "# Create and start a thread\n",
    "thread = threading.Thread(target=task)\n",
    "thread.start()\n",
    "\n",
    "# Wait for the thread to finish\n",
    "thread.join()\n",
    "\n",
    "print(\"Main thread continues...\")"
   ]
  },
  {
   "cell_type": "markdown",
   "metadata": {},
   "source": [
    "**isAlive:** The isAlive method is used to check if a thread is currently active or alive. It returns True if the thread is still executing or has not been terminated, and False otherwise."
   ]
  },
  {
   "cell_type": "code",
   "execution_count": 10,
   "metadata": {},
   "outputs": [
    {
     "name": "stdout",
     "output_type": "stream",
     "text": [
      "Task executed by thread\n",
      "Thread is alive: False\n"
     ]
    },
    {
     "name": "stderr",
     "output_type": "stream",
     "text": [
      "<ipython-input-10-0b710422cf7d>:11: DeprecationWarning: isAlive() is deprecated, use is_alive() instead\n",
      "  alive = thread.isAlive()\n"
     ]
    }
   ],
   "source": [
    "import threading\n",
    "\n",
    "def task():\n",
    "    print(\"Task executed by thread\")\n",
    "\n",
    "# Create and start a thread\n",
    "thread = threading.Thread(target=task)\n",
    "thread.start()\n",
    "\n",
    "# Check if the thread is alive\n",
    "alive = thread.isAlive()\n",
    "print(\"Thread is alive:\", alive)"
   ]
  },
  {
   "cell_type": "markdown",
   "metadata": {},
   "source": [
    "## Q4. Write a python program to create two threads. Thread one must print the list of squares and thread two must print the list of cubes"
   ]
  },
  {
   "cell_type": "code",
   "execution_count": 11,
   "metadata": {},
   "outputs": [
    {
     "name": "stdout",
     "output_type": "stream",
     "text": [
      "1\n",
      "4\n",
      "9\n",
      "16\n",
      "25\n",
      "1\n",
      "8\n",
      "27\n",
      "64\n",
      "125\n",
      "Main thread continues...\n"
     ]
    }
   ],
   "source": [
    "import threading\n",
    "\n",
    "def print_squares():\n",
    "    squares = [x**2 for x in range(1, 6)]\n",
    "    for num in squares:\n",
    "        print(num)\n",
    "\n",
    "def print_cubes():\n",
    "    cubes = [x**3 for x in range(1, 6)]\n",
    "    for num in cubes:\n",
    "        print(num)\n",
    "\n",
    "# Create the first thread to print squares\n",
    "thread1 = threading.Thread(target=print_squares)\n",
    "\n",
    "# Create the second thread to print cubes\n",
    "thread2 = threading.Thread(target=print_cubes)\n",
    "\n",
    "# Start both threads\n",
    "thread1.start()\n",
    "thread2.start()\n",
    "\n",
    "# Wait for both threads to finish\n",
    "thread1.join()\n",
    "thread2.join()\n",
    "\n",
    "print(\"Main thread continues...\")"
   ]
  },
  {
   "cell_type": "markdown",
   "metadata": {},
   "source": [
    "## Q5. State advantages and disadvantages of multithreading"
   ]
  },
  {
   "cell_type": "markdown",
   "metadata": {},
   "source": [
    "Multithreading in programming has several advantages and disadvantages. Here are some of them:\n",
    "\n",
    "***Advantages of Multithreading:***\n",
    "\n",
    "**Concurrency:** Multithreading allows multiple tasks or operations to be executed concurrently, thereby improving overall performance and efficiency. It enables parallelism and better utilization of system resources, such as CPU cores.\n",
    "\n",
    "**Responsiveness:** By using threads, you can keep the main program or user interface responsive while executing time-consuming operations in the background. For example, in graphical user interfaces (GUIs), you can use a separate thread to handle long-running tasks without freezing the user interface.\n",
    "\n",
    "**Resource Sharing:** Threads within the same process share the same memory space, allowing them to access and modify shared data structures or resources easily. This enables efficient communication and data sharing among threads without the need for complex inter-process communication (IPC) mechanisms.\n",
    "\n",
    "**Modularity:** Multithreading allows you to break down a complex task into smaller, more manageable units of work, each running in a separate thread. This promotes modular design and simplifies code maintenance and development.\n",
    "\n",
    "***Disadvantages of Multithreading:***\n",
    "\n",
    "**Complexity:** Multithreading introduces additional complexity to the program. Coordinating and synchronizing threads require careful consideration to avoid issues like race conditions, deadlocks, and data inconsistencies. Debugging and troubleshooting multithreaded code can be more challenging.\n",
    "\n",
    "**Synchronization Overhead:** When multiple threads access shared resources concurrently, proper synchronization mechanisms, such as locks or semaphores, must be used to ensure data consistency and prevent conflicts. However, excessive use of synchronization can lead to performance overhead and potential bottlenecks.\n",
    "\n",
    "**Difficulty in Reproducing Bugs:** Multithreaded programs can exhibit non-deterministic behavior due to the interleaving and scheduling of threads. This makes it harder to reproduce and debug certain types of bugs, such as race conditions or timing-related issues.\n",
    "\n",
    "**Potential for Deadlocks:** Deadlocks can occur when multiple threads are waiting for each other to release resources, resulting in a deadlock state where none of the threads can proceed. Designing and managing thread synchronization properly is crucial to avoid deadlocks.\n",
    "\n",
    "**Global Interpreter Lock (GIL) in Python:** In Python, the Global Interpreter Lock (GIL) ensures that only one thread executes Python bytecode at a time, effectively limiting true parallelism in CPU-bound tasks. This means that multithreading may not provide significant performance improvements for CPU-bound operations in Python."
   ]
  },
  {
   "cell_type": "markdown",
   "metadata": {},
   "source": [
    "## Q6. Explain deadlocks and race conditions."
   ]
  },
  {
   "cell_type": "markdown",
   "metadata": {},
   "source": [
    "Deadlocks and race conditions are two common concurrency issues that can occur in multithreaded programs. Here's an explanation of each:\n",
    "\n",
    "**Deadlocks:**\n",
    "A deadlock occurs when two or more threads are blocked indefinitely, waiting for each other to release resources or take specific actions. In other words, it's a situation where a group of threads is unable to proceed because each thread is holding a resource that another thread requires.\n",
    "Deadlocks typically arise when four necessary conditions are met:\n",
    "\n",
    "**Mutual Exclusion:** At least one resource must be held in a non-sharable mode, preventing other threads from accessing it.\n",
    "Hold and Wait: A thread holding one or more resources waits to acquire additional resources that are currently held by other threads.\n",
    "**No Preemption:** Resources cannot be forcibly taken away from a thread. They can only be released voluntarily by the thread holding them.\n",
    "**Circular Wait:** A circular chain of two or more threads exists, where each thread is waiting for a resource held by another thread in the chain.\n",
    "Detecting and resolving deadlocks can be challenging, as they may occur sporadically and can be difficult to reproduce. Strategies to prevent deadlocks include resource ordering, deadlock avoidance algorithms, and deadlock detection algorithms.\n",
    "\n",
    "**Race Conditions:**\n",
    "A race condition occurs when the behavior or outcome of a program depends on the relative timing or interleaving of multiple threads. It happens when two or more threads access shared resources or modify shared data without proper synchronization, leading to unpredictable and erroneous results.\n",
    "Race conditions are caused by the non-deterministic scheduling of threads and the lack of proper synchronization mechanisms. They can manifest in various ways, such as data corruption, inconsistent states, or incorrect computations. Race conditions are particularly common when multiple threads try to modify shared variables simultaneously or when they perform interleaved reads and writes without proper synchronization.\n",
    "\n",
    "To avoid race conditions, it's important to use appropriate synchronization mechanisms, such as locks, semaphores, or mutexes, to coordinate access to shared resources. Synchronization ensures that only one thread can access the shared resource at a time, preventing conflicts and maintaining data consistency.\n",
    "\n",
    "Both deadlocks and race conditions can be challenging to identify and resolve. Thorough understanding of concurrent programming concepts and careful design of thread synchronization mechanisms are necessary to mitigate these issues and ensure the correctness and reliability of multithreaded programs."
   ]
  }
 ],
 "metadata": {
  "kernelspec": {
   "display_name": "Python 3",
   "language": "python",
   "name": "python3"
  },
  "language_info": {
   "codemirror_mode": {
    "name": "ipython",
    "version": 3
   },
   "file_extension": ".py",
   "mimetype": "text/x-python",
   "name": "python",
   "nbconvert_exporter": "python",
   "pygments_lexer": "ipython3",
   "version": "3.8.5"
  }
 },
 "nbformat": 4,
 "nbformat_minor": 4
}
