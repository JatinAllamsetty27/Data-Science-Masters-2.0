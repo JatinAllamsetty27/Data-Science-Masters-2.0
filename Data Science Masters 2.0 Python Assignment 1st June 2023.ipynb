{
 "cells": [
  {
   "cell_type": "markdown",
   "metadata": {},
   "source": [
    "<div style=\"border-radius:10px;\n",
    "            border:#0b0265 solid;\n",
    "           background-color:#0077be;\n",
    "           font-size:110%;\n",
    "           letter-spacing:0.5px;\n",
    "            text-align: center\">\n",
    "\n",
    "<center><h1 style=\"padding: 25px 0px; background color:#0077be; font-weight: bold; font-family: Cursive\">\n",
    "Data Science Masters 2.0 Python Assignment 1st June 2023</h1></center>\n",
    "\n",
    "</div>"
   ]
  },
  {
   "cell_type": "markdown",
   "metadata": {},
   "source": [
    "## Q1. Which keyword is used to create a function? Create a function to return a list of odd numbers in the range of 1 to 25."
   ]
  },
  {
   "cell_type": "markdown",
   "metadata": {},
   "source": [
    "The keyword used to create a function in Python is \"def\". Here's an program to a function that returns a list of odd numbers in the range of 1 to 25:"
   ]
  },
  {
   "cell_type": "code",
   "execution_count": 1,
   "metadata": {},
   "outputs": [],
   "source": [
    "def get_odd_numbers():\n",
    "    odd_numbers = []\n",
    "    for num in range(1, 26):\n",
    "        if num % 2 != 0:\n",
    "            odd_numbers.append(num)\n",
    "    return odd_numbers"
   ]
  },
  {
   "cell_type": "code",
   "execution_count": 2,
   "metadata": {},
   "outputs": [],
   "source": [
    "#call the function\n",
    "get_odd_numbers()"
   ]
  },
  {
   "cell_type": "markdown",
   "metadata": {},
   "source": [
    "## Q2. Why *args and **kwargs is used in some functions? Create a function each for *args and **kwargs to demonstrate their use."
   ]
  },
  {
   "cell_type": "markdown",
   "metadata": {},
   "source": [
    "*args and **kwargs are used in function definitions to allow for a variable number of arguments to be passed to a function.\n",
    "\n",
    "The *args syntax is used to pass a variable number of non-keyword arguments to a function. It allows you to pass any number of positional arguments, which are then accessed as a tuple within the function."
   ]
  },
  {
   "cell_type": "code",
   "execution_count": 3,
   "metadata": {},
   "outputs": [],
   "source": [
    "def concatenate_strings(*args):\n",
    "    result = \"\"\n",
    "    for string in args:\n",
    "        result += string\n",
    "    return result"
   ]
  },
  {
   "cell_type": "code",
   "execution_count": 4,
   "metadata": {},
   "outputs": [],
   "source": [
    "#call the function\n",
    "concatenate_strings(\"Jatin\",\" Hari\",\" Kaushik\")"
   ]
  },
  {
   "cell_type": "markdown",
   "metadata": {},
   "source": [
    "The **kwargs syntax, on the other hand, allows you to pass a variable number of keyword arguments to a function. It allows you to pass any number of named arguments, which are then accessed as a dictionary within the function."
   ]
  },
  {
   "cell_type": "code",
   "execution_count": 5,
   "metadata": {},
   "outputs": [],
   "source": [
    "def print_key_value_pairs(**kwargs):\n",
    "    for key, value in kwargs.items():\n",
    "        print(key, \":\", value)"
   ]
  },
  {
   "cell_type": "markdown",
   "metadata": {},
   "source": [
    "## Q3. What is an iterator in python? Name the method used to initialise the iterator object and the method used for iteration. Use these methods to print the first five elements of the given list [2, 4, 6, 8, 10, 12, 14, 16,18, 20]."
   ]
  },
  {
   "cell_type": "markdown",
   "metadata": {},
   "source": [
    "An iterator is an object that allows you to traverse a container (such as a list or a string) and access its elements one by one. It provides a way to iterate over the elements of a container without exposing its underlying structure.\n",
    "\n",
    "To initialize an iterator object in Python, you can use the iter() function. This function takes an iterable object as an argument and returns an iterator object.\n",
    "\n",
    "To iterate over the elements of an iterator, you can use the next() function. This function retrieves the next item from the iterator. You can call next() repeatedly to access subsequent elements."
   ]
  },
  {
   "cell_type": "code",
   "execution_count": 6,
   "metadata": {},
   "outputs": [],
   "source": [
    "my_list = [2, 4, 6, 8, 10, 12, 14, 16, 18, 20]\n",
    "\n",
    "# Initialize the iterator object\n",
    "my_iterator = iter(my_list)\n",
    "\n",
    "# Iterate and print the first five elements\n",
    "for _ in range(5):\n",
    "    element = next(my_iterator)\n",
    "    print(element)"
   ]
  },
  {
   "cell_type": "markdown",
   "metadata": {},
   "source": [
    "## Q4. What is a generator function in python? Why yield keyword is used? Give an example of a generator function."
   ]
  },
  {
   "cell_type": "markdown",
   "metadata": {},
   "source": [
    "A generator function is a special type of function that generates an iterator object. It uses the yield keyword instead of return to produce a sequence of values, one at a time, on-the-fly, without storing them in memory all at once.\n",
    "\n",
    "The yield keyword is used in generator functions to define the value that will be produced each time the iterator's next() method is called. When the yield statement is encountered, the function's state is saved, and the yielded value is returned. The function will then resume from where it left off the next time next() is called, continuing the execution until it reaches the next yield statement or the end of the function.\n",
    "\n",
    "The main advantage of using generator functions and the yield keyword is that they allow you to generate values lazily, as they are needed, which can save memory and improve performance when dealing with large sequences or infinite streams of data."
   ]
  },
  {
   "cell_type": "code",
   "execution_count": 7,
   "metadata": {},
   "outputs": [],
   "source": [
    "def square_generator(n):\n",
    "    for i in range(n):\n",
    "        yield i ** 2"
   ]
  },
  {
   "cell_type": "code",
   "execution_count": 8,
   "metadata": {},
   "outputs": [],
   "source": [
    "#call the function\n",
    "square_generator(5)"
   ]
  },
  {
   "cell_type": "code",
   "execution_count": 9,
   "metadata": {},
   "outputs": [],
   "source": [
    "for i in square_generator(5):\n",
    "    print(i)"
   ]
  },
  {
   "cell_type": "markdown",
   "metadata": {},
   "source": [
    "You can use the generator function in a loop or with other iterator-related operations, such as next() or for loop, to iterate over the generated values without loading the entire sequence into memory at once."
   ]
  },
  {
   "cell_type": "code",
   "execution_count": 10,
   "metadata": {},
   "outputs": [],
   "source": [
    "# Using the generator function\n",
    "my_generator = square_generator(5)\n",
    "print(next(my_generator))  # Output: 0\n",
    "print(next(my_generator))  # Output: 1\n",
    "print(next(my_generator))  # Output: 4\n",
    "\n",
    "# Using a for loop\n",
    "for square in square_generator(5):\n",
    "    print(square)"
   ]
  },
  {
   "cell_type": "markdown",
   "metadata": {},
   "source": [
    "## Q5. Create a generator function for prime numbers less than 1000. Use the next() method to print the first 20 prime numbers."
   ]
  },
  {
   "cell_type": "code",
   "execution_count": 11,
   "metadata": {},
   "outputs": [],
   "source": [
    "def prime_generator():\n",
    "    primes = []\n",
    "    num = 2\n",
    "    while True:\n",
    "        if all(num % prime != 0 for prime in primes):\n",
    "            primes.append(num)\n",
    "            yield num\n",
    "        num += 1\n",
    "\n",
    "# Create the generator object\n",
    "prime_gen = prime_generator()\n",
    "\n",
    "# Print the first 20 prime numbers\n",
    "for _ in range(20):\n",
    "    prime = next(prime_gen)\n",
    "    print(prime)"
   ]
  }
 ],
 "metadata": {
  "kernelspec": {
   "display_name": "Python 3",
   "language": "python",
   "name": "python3"
  },
  "language_info": {
   "codemirror_mode": {
    "name": "ipython",
    "version": 3
   },
   "file_extension": ".py",
   "mimetype": "text/x-python",
   "name": "python",
   "nbconvert_exporter": "python",
   "pygments_lexer": "ipython3",
   "version": "3.8.5"
  }
 },
 "nbformat": 4,
 "nbformat_minor": 4
}
