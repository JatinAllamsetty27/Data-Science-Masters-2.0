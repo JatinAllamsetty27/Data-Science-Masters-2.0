{
 "cells": [
  {
   "cell_type": "markdown",
   "metadata": {},
   "source": [
    "<div style=\"border-radius:10px;\n",
    "            border:#0b0265 solid;\n",
    "           background-color:#0077be;\n",
    "           font-size:110%;\n",
    "           letter-spacing:0.5px;\n",
    "            text-align: center\">\n",
    "\n",
    "<center><h1 style=\"padding: 25px 0px; background color:#0077be; font-weight: bold; font-family: Cursive\">\n",
    "Data Science Masters 2.0 Exception Handling-1</h1></center>\n",
    "\n",
    "</div>"
   ]
  },
  {
   "cell_type": "markdown",
   "metadata": {},
   "source": [
    "## Q1. What is an Exception in python? Write the difference between Exception and Syntax Errors?"
   ]
  },
  {
   "cell_type": "markdown",
   "metadata": {},
   "source": [
    "**Exception:** An Exception is an event that occours between during the execution of a program that disrupts the  normal form of instructions. It is a way to handle errors or exceptional conditions. When an exception occurs, it creates an object containing information about the error, and the program's normal flow is interrupted, transferring control to a special block of code known as an exception handler.\n",
    "Exceptions can be caused by various factors, such as invalid input, unavailable resources, or logical errors. Some common types of exceptions in Python include TypeError, ValueError, ZeroDivisionError, and FileNotFoundError, among others. You can also create custom exceptions by deriving from the built-in Exception class or its subclasses.\n",
    "\n",
    "**Syntax Errors:** Syntax errors, also known as parsing errors, occur when the Python interpreter encounters code that violates the language's syntax rules. These errors happen during the parsing stage, before the program is executed. Syntax errors typically prevent the program from running at all, as the interpreter cannot understand the code. Common examples of syntax errors include misspelled keywords, missing colons or parentheses, or incorrect indentation."
   ]
  },
  {
   "cell_type": "code",
   "execution_count": 1,
   "metadata": {},
   "outputs": [
    {
     "ename": "SyntaxError",
     "evalue": "unexpected EOF while parsing (<ipython-input-1-5bf1813151ba>, line 2)",
     "output_type": "error",
     "traceback": [
      "\u001b[1;36m  File \u001b[1;32m\"<ipython-input-1-5bf1813151ba>\"\u001b[1;36m, line \u001b[1;32m2\u001b[0m\n\u001b[1;33m    print(\"Hello, world!\"\u001b[0m\n\u001b[1;37m                         ^\u001b[0m\n\u001b[1;31mSyntaxError\u001b[0m\u001b[1;31m:\u001b[0m unexpected EOF while parsing\n"
     ]
    }
   ],
   "source": [
    "#Example for syntax errors\n",
    "print(\"Hello, world!\""
   ]
  },
  {
   "cell_type": "code",
   "execution_count": 2,
   "metadata": {},
   "outputs": [
    {
     "name": "stdout",
     "output_type": "stream",
     "text": [
      "Error: Division by zero is not allowed.\n"
     ]
    }
   ],
   "source": [
    "#Example for an Exception\n",
    "num1 = 10\n",
    "num2 = 0\n",
    "\n",
    "try:\n",
    "    result = num1 / num2\n",
    "    print(result)\n",
    "except ZeroDivisionError:\n",
    "    print(\"Error: Division by zero is not allowed.\")"
   ]
  },
  {
   "cell_type": "markdown",
   "metadata": {},
   "source": [
    "## Q2. What happens when exception is not handled? Explain with an example. "
   ]
  },
  {
   "cell_type": "markdown",
   "metadata": {},
   "source": [
    "When an exception is not handled, it results in the termination of the program and an error message is displayed, indicating the type of exception that occurred and the traceback information. This abrupt termination prevents the program from executing any further code beyond the point where the exception occurred."
   ]
  },
  {
   "cell_type": "code",
   "execution_count": 3,
   "metadata": {},
   "outputs": [
    {
     "ename": "ZeroDivisionError",
     "evalue": "division by zero",
     "output_type": "error",
     "traceback": [
      "\u001b[1;31m---------------------------------------------------------------------------\u001b[0m",
      "\u001b[1;31mZeroDivisionError\u001b[0m                         Traceback (most recent call last)",
      "\u001b[1;32m<ipython-input-3-bb10d15d73fe>\u001b[0m in \u001b[0;36m<module>\u001b[1;34m\u001b[0m\n\u001b[0;32m      2\u001b[0m \u001b[0mnum2\u001b[0m \u001b[1;33m=\u001b[0m \u001b[1;36m0\u001b[0m\u001b[1;33m\u001b[0m\u001b[1;33m\u001b[0m\u001b[0m\n\u001b[0;32m      3\u001b[0m \u001b[1;33m\u001b[0m\u001b[0m\n\u001b[1;32m----> 4\u001b[1;33m \u001b[0mresult\u001b[0m \u001b[1;33m=\u001b[0m \u001b[0mnum1\u001b[0m \u001b[1;33m/\u001b[0m \u001b[0mnum2\u001b[0m\u001b[1;33m\u001b[0m\u001b[1;33m\u001b[0m\u001b[0m\n\u001b[0m\u001b[0;32m      5\u001b[0m \u001b[0mprint\u001b[0m\u001b[1;33m(\u001b[0m\u001b[0mresult\u001b[0m\u001b[1;33m)\u001b[0m\u001b[1;33m\u001b[0m\u001b[1;33m\u001b[0m\u001b[0m\n",
      "\u001b[1;31mZeroDivisionError\u001b[0m: division by zero"
     ]
    }
   ],
   "source": [
    "num1 = 10\n",
    "num2 = 0\n",
    "\n",
    "result = num1 / num2\n",
    "print(result)"
   ]
  },
  {
   "cell_type": "markdown",
   "metadata": {},
   "source": [
    "The error message provides the traceback information, indicating the line of code where the exception occurred (File \"<stdin>\", line 4 in this case). It also specifies the type of exception (ZeroDivisionError) that was raised."
   ]
  },
  {
   "cell_type": "markdown",
   "metadata": {},
   "source": [
    "To handle this exception and prevent the program from terminating abruptly, you can use a try-except block to catch the exception and provide a suitable response or alternative course of action."
   ]
  },
  {
   "cell_type": "markdown",
   "metadata": {},
   "source": [
    "## Q3. Which Python statements are used to ,catch and handle exceptions? Explain with an example"
   ]
  },
  {
   "cell_type": "markdown",
   "metadata": {},
   "source": [
    " The try-except statement is used to catch and handle exceptions. The basic syntax of a try-except block is as follows:"
   ]
  },
  {
   "cell_type": "markdown",
   "metadata": {},
   "source": [
    "try:\n",
    "\n",
    "    # Code that may raise an exception\n",
    "    \n",
    "except ExceptionType:\n",
    "    \n",
    "    # Code to handle the exception"
   ]
  },
  {
   "cell_type": "code",
   "execution_count": 4,
   "metadata": {},
   "outputs": [
    {
     "name": "stdout",
     "output_type": "stream",
     "text": [
      "Error: Division by zero is not allowed.\n"
     ]
    }
   ],
   "source": [
    "try:\n",
    "    num1 = 10\n",
    "    num2 = 0\n",
    "    result = num1 / num2\n",
    "    print(result)\n",
    "except ZeroDivisionError:\n",
    "    print(\"Error: Division by zero is not allowed.\")"
   ]
  },
  {
   "cell_type": "markdown",
   "metadata": {},
   "source": [
    "We added a TypeError exception handling block along with the ZeroDivisionError block. If a TypeError exception occurs, the corresponding block will handle it, providing a specific error message."
   ]
  },
  {
   "cell_type": "markdown",
   "metadata": {},
   "source": [
    "## Q4. Explain with an example  1).try and else  2).finally  3).raise"
   ]
  },
  {
   "cell_type": "markdown",
   "metadata": {},
   "source": [
    "**try-except-else:**\n",
    "The try-except-else statement allows you to specify a block of code to be executed if no exceptions are raised within the try block. It provides a way to distinguish between the code that can potentially raise an exception and the code that should only execute when no exception occurs."
   ]
  },
  {
   "cell_type": "code",
   "execution_count": 5,
   "metadata": {},
   "outputs": [
    {
     "name": "stdout",
     "output_type": "stream",
     "text": [
      "The division result is: 2.0\n"
     ]
    }
   ],
   "source": [
    "try:\n",
    "    num1 = 10\n",
    "    num2 = 5\n",
    "    result = num1 / num2\n",
    "except ZeroDivisionError:\n",
    "    print(\"Error: Division by zero is not allowed.\")\n",
    "else:\n",
    "    print(\"The division result is:\", result)"
   ]
  },
  {
   "cell_type": "markdown",
   "metadata": {},
   "source": [
    "**try-finally:**\n",
    "The try-finally statement is used to define a block of code that will always be executed, regardless of whether an exception occurs or not. The code inside the finally block will run even if an exception is raised and not caught."
   ]
  },
  {
   "cell_type": "code",
   "execution_count": 6,
   "metadata": {},
   "outputs": [],
   "source": [
    "try:\n",
    "    file = open(\"example.txt\", \"r\")\n",
    "    # Perform operations on the file\n",
    "finally:\n",
    "    file.close()"
   ]
  },
  {
   "cell_type": "markdown",
   "metadata": {},
   "source": [
    "**raise:**\n",
    "\n",
    "The raise statement is used to explicitly raise an exception in Python. It allows you to create and trigger custom exceptions or raise built-in exceptions in specific scenarios."
   ]
  },
  {
   "cell_type": "code",
   "execution_count": 7,
   "metadata": {},
   "outputs": [
    {
     "ename": "ValueError",
     "evalue": "Age cannot be negative.",
     "output_type": "error",
     "traceback": [
      "\u001b[1;31m---------------------------------------------------------------------------\u001b[0m",
      "\u001b[1;31mValueError\u001b[0m                                Traceback (most recent call last)",
      "\u001b[1;32m<ipython-input-7-3e600dff7f8a>\u001b[0m in \u001b[0;36m<module>\u001b[1;34m\u001b[0m\n\u001b[0;32m      2\u001b[0m \u001b[0mage\u001b[0m \u001b[1;33m=\u001b[0m \u001b[1;33m-\u001b[0m\u001b[1;36m5\u001b[0m\u001b[1;33m\u001b[0m\u001b[1;33m\u001b[0m\u001b[0m\n\u001b[0;32m      3\u001b[0m \u001b[1;32mif\u001b[0m \u001b[0mage\u001b[0m \u001b[1;33m<\u001b[0m \u001b[1;36m0\u001b[0m\u001b[1;33m:\u001b[0m\u001b[1;33m\u001b[0m\u001b[1;33m\u001b[0m\u001b[0m\n\u001b[1;32m----> 4\u001b[1;33m     \u001b[1;32mraise\u001b[0m \u001b[0mValueError\u001b[0m\u001b[1;33m(\u001b[0m\u001b[1;34m\"Age cannot be negative.\"\u001b[0m\u001b[1;33m)\u001b[0m\u001b[1;33m\u001b[0m\u001b[1;33m\u001b[0m\u001b[0m\n\u001b[0m",
      "\u001b[1;31mValueError\u001b[0m: Age cannot be negative."
     ]
    }
   ],
   "source": [
    "#Example 1 - Raising a built-in exception:\n",
    "age = -5\n",
    "if age < 0:\n",
    "    raise ValueError(\"Age cannot be negative.\")"
   ]
  },
  {
   "cell_type": "code",
   "execution_count": 8,
   "metadata": {},
   "outputs": [
    {
     "name": "stdout",
     "output_type": "stream",
     "text": [
      "Custom exception occurred: Value is too large.\n"
     ]
    }
   ],
   "source": [
    "#Example 2 - Raising a custom exception:\n",
    "class CustomException(Exception):\n",
    "    pass\n",
    "\n",
    "def check_value(value):\n",
    "    if value > 100:\n",
    "        raise CustomException(\"Value is too large.\")\n",
    "\n",
    "try:\n",
    "    check_value(200)\n",
    "except CustomException as e:\n",
    "    print(\"Custom exception occurred:\", str(e))"
   ]
  },
  {
   "cell_type": "markdown",
   "metadata": {},
   "source": [
    "In this example, we define a custom exception CustomException by creating a new class derived from the Exception base class. Inside the check_value function, if the value is greater than 100, we raise this custom exception. The raised exception is caught in the except block, allowing us to handle it appropriately.\n",
    "\n",
    "The raise statement gives you control over when and how exceptions are raised, enabling you to handle exceptional cases in a customized manner."
   ]
  },
  {
   "cell_type": "markdown",
   "metadata": {},
   "source": [
    "## Q5. What are Custom Exceptions in python? Why do we need Custom Exceptions? Explain with an example"
   ]
  },
  {
   "cell_type": "markdown",
   "metadata": {},
   "source": [
    "Custom exceptions in Python are user-defined exceptions that allow you to create your own specific exception types based on your program's requirements. While Python provides a wide range of built-in exceptions, sometimes they might not accurately represent the exceptional conditions or errors specific to your application. In such cases, custom exceptions can be created to handle unique situations and provide meaningful error messages."
   ]
  },
  {
   "cell_type": "code",
   "execution_count": 9,
   "metadata": {},
   "outputs": [
    {
     "name": "stdout",
     "output_type": "stream",
     "text": [
      "Error: Insufficient balance.\n"
     ]
    }
   ],
   "source": [
    "class BankBalanceError(Exception):\n",
    "    def __init__(self, message):\n",
    "        self.message = message\n",
    "\n",
    "    def __str__(self):\n",
    "        return self.message\n",
    "\n",
    "def withdraw(balance, amount):\n",
    "    if amount > balance:\n",
    "        raise BankBalanceError(\"Insufficient balance.\")\n",
    "\n",
    "    # Code to process the withdrawal\n",
    "\n",
    "try:\n",
    "    account_balance = 1000\n",
    "    withdrawal_amount = 2000\n",
    "    withdraw(account_balance, withdrawal_amount)\n",
    "except BankBalanceError as e:\n",
    "    print(\"Error:\", str(e))"
   ]
  },
  {
   "cell_type": "markdown",
   "metadata": {},
   "source": [
    "In this example, we define a custom exception BankBalanceError by creating a new class derived from the built-in Exception class. The BankBalanceError class has an initializer method __init__ to set the error message and a string representation method __str__ to return the error message when the exception is printed.\n",
    "\n",
    "The withdraw function simulates a withdrawal from a bank account. If the withdrawal amount exceeds the account balance, it raises a BankBalanceError exception with the appropriate error message.\n",
    "\n",
    "When the exception is raised, it is caught in the except block, where we can handle it in a specific way. In this case, we simply print the error message associated with the BankBalanceError.\n",
    "\n",
    "By using custom exceptions, you can provide more informative error messages and handle exceptional conditions in a more meaningful and controlled manner. It helps in improving code readability, maintainability, and makes it easier to identify and troubleshoot specific issues related to your application's domain"
   ]
  },
  {
   "cell_type": "markdown",
   "metadata": {},
   "source": [
    "## Q6. Create custom exception class. Use this class to handle an exception?"
   ]
  },
  {
   "cell_type": "code",
   "execution_count": 10,
   "metadata": {},
   "outputs": [
    {
     "name": "stdout",
     "output_type": "stream",
     "text": [
      "Error: Division by zero is not allowed.\n"
     ]
    }
   ],
   "source": [
    "class CustomException(Exception):\n",
    "    def __init__(self, message):\n",
    "        self.message = message\n",
    "\n",
    "    def __str__(self):\n",
    "        return self.message\n",
    "\n",
    "def divide_numbers(num1, num2):\n",
    "    if num2 == 0:\n",
    "        raise CustomException(\"Division by zero is not allowed.\")\n",
    "\n",
    "    return num1 / num2\n",
    "\n",
    "try:\n",
    "    result = divide_numbers(10, 0)\n",
    "    print(\"Result:\", result)\n",
    "except CustomException as e:\n",
    "    print(\"Error:\", str(e))"
   ]
  }
 ],
 "metadata": {
  "kernelspec": {
   "display_name": "Python 3",
   "language": "python",
   "name": "python3"
  },
  "language_info": {
   "codemirror_mode": {
    "name": "ipython",
    "version": 3
   },
   "file_extension": ".py",
   "mimetype": "text/x-python",
   "name": "python",
   "nbconvert_exporter": "python",
   "pygments_lexer": "ipython3",
   "version": "3.8.5"
  }
 },
 "nbformat": 4,
 "nbformat_minor": 4
}
