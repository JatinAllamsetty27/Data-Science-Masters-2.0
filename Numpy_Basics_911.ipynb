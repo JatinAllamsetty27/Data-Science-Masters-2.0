{
  "nbformat": 4,
  "nbformat_minor": 0,
  "metadata": {
    "colab": {
      "provenance": []
    },
    "kernelspec": {
      "name": "python3",
      "display_name": "Python 3"
    },
    "language_info": {
      "name": "python"
    }
  },
  "cells": [
    {
      "cell_type": "markdown",
      "source": [
        "# **Numpy** **Basics** ⌛"
      ],
      "metadata": {
        "id": "fiMnmBi_wDtM"
      }
    },
    {
      "cell_type": "markdown",
      "source": [
        "**Consider the below code to answer further questions:**\n",
        "```\n",
        "import numpy as np\n",
        "list_ = [ ‘1’ , ’2’ , ‘3’ , ‘4’ , ‘5’ ]\n",
        "array_list = np.array(object = list_)\n",
        "```"
      ],
      "metadata": {
        "id": "CS7exmuY3HVh"
      }
    },
    {
      "cell_type": "markdown",
      "source": [
        "**Q1. Is there any difference in the data type of variables list_ and array_list? If there is then write a code to print the data types of both the variables.**"
      ],
      "metadata": {
        "id": "XmLTJ7_R3if5"
      }
    },
    {
      "cell_type": "markdown",
      "source": [
        "Yes, there is a difference in the data types of **list_** and **array_list**.\n",
        "\n",
        "**list_** is a Python list with string elements.\n",
        "\n",
        "**array_list** is a NumPy array created from the list, but containing string data type."
      ],
      "metadata": {
        "id": "wUT0MBbQ4Lq5"
      }
    },
    {
      "cell_type": "code",
      "source": [
        "import numpy as np\n",
        "\n",
        "list_ = ['1', '2', '3', '4', '5']\n",
        "\n",
        "array_list = np.array(object = list_)\n",
        "\n",
        "print(type(list_))\n",
        "print(type(array_list))"
      ],
      "metadata": {
        "colab": {
          "base_uri": "https://localhost:8080/"
        },
        "id": "b5rvPZRW3xwp",
        "outputId": "9e6e6611-1829-4ff3-e134-b00a3f6a0fd7"
      },
      "execution_count": 2,
      "outputs": [
        {
          "output_type": "stream",
          "name": "stdout",
          "text": [
            "<class 'list'>\n",
            "<class 'numpy.ndarray'>\n"
          ]
        }
      ]
    },
    {
      "cell_type": "markdown",
      "source": [
        "So **list_** is of type list and **array_list** is of type numpy.ndarray.\n",
        "\n",
        "The main differences between a Python list and NumPy array are:\n",
        "\n",
        "\n",
        "\n",
        "*   NumPy arrays have fixed size at creation, lists can grow dynamically.\n",
        "*   NumPy arrays are homogeneous - all elements must be of same data type. Lists can have different data types in each element.\n",
        "\n",
        "\n",
        "*   NumPy arrays support vectorized operations like element-wise math. Lists don't have built-in math operations.\n",
        "\n",
        "So in this case, **array_list** contains string data like the original list, but stored in a fixed-size NumPy array.\n",
        "\n",
        "\n",
        "\n",
        "\n"
      ],
      "metadata": {
        "id": "Dsx86FkJ4iro"
      }
    },
    {
      "cell_type": "markdown",
      "source": [
        "**Q2. Write a code to print the data type of each and every element of both the variables list_ and\n",
        "arra_list.**"
      ],
      "metadata": {
        "id": "r1oZVl3tQjpn"
      }
    },
    {
      "cell_type": "markdown",
      "source": [
        "To print the data type of each element in both list_ and array_list:"
      ],
      "metadata": {
        "id": "gx2HhGMdRB5s"
      }
    },
    {
      "cell_type": "code",
      "source": [
        "for i in list_:\n",
        "  print(type(i))\n",
        "\n",
        "for i in array_list:\n",
        "  print(type(i))"
      ],
      "metadata": {
        "id": "t240j7w64iZa",
        "colab": {
          "base_uri": "https://localhost:8080/"
        },
        "outputId": "c5b8c1bd-5dd8-44e5-a11e-2f1185b61369"
      },
      "execution_count": 3,
      "outputs": [
        {
          "output_type": "stream",
          "name": "stdout",
          "text": [
            "<class 'str'>\n",
            "<class 'str'>\n",
            "<class 'str'>\n",
            "<class 'str'>\n",
            "<class 'str'>\n",
            "<class 'numpy.str_'>\n",
            "<class 'numpy.str_'>\n",
            "<class 'numpy.str_'>\n",
            "<class 'numpy.str_'>\n",
            "<class 'numpy.str_'>\n"
          ]
        }
      ]
    },
    {
      "cell_type": "markdown",
      "source": [
        "The key difference is that list_ will contain string elements, while array_list will contain numpy.str_ elements since it is a NumPy array."
      ],
      "metadata": {
        "id": "AeJNkec_RHBH"
      }
    },
    {
      "cell_type": "markdown",
      "source": [
        "**Q3. Considering the following changes in the variable, array_list:**\n",
        "\n",
        "\n",
        "```\n",
        "array_list = np.array(object = list_, dtype = int)\n",
        "```\n",
        "\n"
      ],
      "metadata": {
        "id": "h9Zz1g7BRUQd"
      }
    },
    {
      "cell_type": "markdown",
      "source": [
        "Now array_list is a NumPy array with integer dtype, while list_ remains a Python list with string elements. To print the data types:"
      ],
      "metadata": {
        "id": "F5xX69CsRsSc"
      }
    },
    {
      "cell_type": "code",
      "source": [
        "for i in list_:\n",
        "  print(type(i))\n",
        "\n",
        "for i in array_list:\n",
        "  print(type(i))"
      ],
      "metadata": {
        "colab": {
          "base_uri": "https://localhost:8080/"
        },
        "id": "cvRd-O0nRGK9",
        "outputId": "4741f72d-2c5d-4d7b-99cc-411cdaf01797"
      },
      "execution_count": 4,
      "outputs": [
        {
          "output_type": "stream",
          "name": "stdout",
          "text": [
            "<class 'str'>\n",
            "<class 'str'>\n",
            "<class 'str'>\n",
            "<class 'str'>\n",
            "<class 'str'>\n",
            "<class 'numpy.str_'>\n",
            "<class 'numpy.str_'>\n",
            "<class 'numpy.str_'>\n",
            "<class 'numpy.str_'>\n",
            "<class 'numpy.str_'>\n"
          ]
        }
      ]
    },
    {
      "cell_type": "markdown",
      "source": [
        "So now list_ contains strings, while array_list contains integers due to the specified dtype."
      ],
      "metadata": {
        "id": "9J7UroYXR1YP"
      }
    },
    {
      "cell_type": "markdown",
      "source": [
        "Will there be any difference in the data type of the elements present in both the variables, list_ and\n",
        "arra_list? If so then print the data types of each and every element present in both the variables, list_\n",
        "and arra_list.\n",
        "Consider the below code to answer further questions:\n",
        "\n",
        "\n",
        "```\n",
        "import numpy as np\n",
        "num_list = [ [ 1 , 2 , 3 ] , [ 4 , 5 , 6 ] ]\n",
        "num_array = np.array(object = num_list)\n",
        "```"
      ],
      "metadata": {
        "id": "877ynm3qdxuc"
      }
    },
    {
      "cell_type": "code",
      "source": [
        "import numpy as np\n",
        "num_list = [ [ 1 , 2 , 3 ] , [ 4 , 5 , 6 ] ]\n",
        "num_array = np.array(object = num_list)\n",
        "print(type(num_list[0][0]))\n",
        "print(type(num_array[0][0]))\n",
        "for i in range(len(num_list)):\n",
        "  for j in range(len(num_list[i])):\n",
        "    print(type(num_list[i][j]))\n",
        "\n",
        "for i in range(num_array.shape[0]):\n",
        "  for j in range(num_array.shape[1]):\n",
        "    print(type(num_array[i][j]))\n"
      ],
      "metadata": {
        "colab": {
          "base_uri": "https://localhost:8080/"
        },
        "id": "W1s9SMsLRxVO",
        "outputId": "ce2889c7-1fc2-453c-892b-177ef678b05c"
      },
      "execution_count": 5,
      "outputs": [
        {
          "output_type": "stream",
          "name": "stdout",
          "text": [
            "<class 'int'>\n",
            "<class 'numpy.int64'>\n",
            "<class 'int'>\n",
            "<class 'int'>\n",
            "<class 'int'>\n",
            "<class 'int'>\n",
            "<class 'int'>\n",
            "<class 'int'>\n",
            "<class 'numpy.int64'>\n",
            "<class 'numpy.int64'>\n",
            "<class 'numpy.int64'>\n",
            "<class 'numpy.int64'>\n",
            "<class 'numpy.int64'>\n",
            "<class 'numpy.int64'>\n"
          ]
        }
      ]
    },
    {
      "cell_type": "markdown",
      "source": [
        "**Q4. Write a code to find the following characteristics of variable, num_array:**\n",
        "\n",
        "(i)shape\n",
        "\n",
        "(ii)size"
      ],
      "metadata": {
        "id": "9d0PAgQZekAo"
      }
    },
    {
      "cell_type": "code",
      "source": [
        "import numpy as np\n",
        "\n",
        "num_list = [[1, 2, 3], [4, 5, 6]]\n",
        "num_array = np.array(num_list)\n",
        "\n",
        "# Shape of num_array\n",
        "print(num_array.shape)\n",
        "\n",
        "# Size of num_array\n",
        "print(num_array.size)"
      ],
      "metadata": {
        "colab": {
          "base_uri": "https://localhost:8080/"
        },
        "id": "X0aB6fw3efSM",
        "outputId": "8983741f-9770-4a80-bb84-693eded366bc"
      },
      "execution_count": 6,
      "outputs": [
        {
          "output_type": "stream",
          "name": "stdout",
          "text": [
            "(2, 3)\n",
            "6\n"
          ]
        }
      ]
    },
    {
      "cell_type": "markdown",
      "source": [
        "**Q5. Write a code to create numpy array of 3*3 matrix containing zeros only, using a numpy array\n",
        "creation function.**"
      ],
      "metadata": {
        "id": "jI7ERee2fHyI"
      }
    },
    {
      "cell_type": "code",
      "source": [
        "import numpy as np\n",
        "\n",
        "# Create 3x3 array of zeros\n",
        "zero_array = np.zeros((3,3))\n",
        "\n",
        "print(zero_array)"
      ],
      "metadata": {
        "colab": {
          "base_uri": "https://localhost:8080/"
        },
        "id": "hxQZHWxRe_iX",
        "outputId": "eb137e0b-9531-46b8-fe6d-f9371ee072a1"
      },
      "execution_count": 7,
      "outputs": [
        {
          "output_type": "stream",
          "name": "stdout",
          "text": [
            "[[0. 0. 0.]\n",
            " [0. 0. 0.]\n",
            " [0. 0. 0.]]\n"
          ]
        }
      ]
    },
    {
      "cell_type": "markdown",
      "source": [
        "**Q6. Create an identity matrix of shape (5,5) using numpy functions?**"
      ],
      "metadata": {
        "id": "Nc0bvpbVfov3"
      }
    },
    {
      "cell_type": "code",
      "source": [
        "import numpy as np\n",
        "\n",
        "identity_matrix = np.eye(N=5)\n",
        "\n",
        "print(identity_matrix)"
      ],
      "metadata": {
        "colab": {
          "base_uri": "https://localhost:8080/"
        },
        "id": "ZQax2bkFfZ-z",
        "outputId": "a7253073-913a-4307-eef8-71b32acdbaef"
      },
      "execution_count": 8,
      "outputs": [
        {
          "output_type": "stream",
          "name": "stdout",
          "text": [
            "[[1. 0. 0. 0. 0.]\n",
            " [0. 1. 0. 0. 0.]\n",
            " [0. 0. 1. 0. 0.]\n",
            " [0. 0. 0. 1. 0.]\n",
            " [0. 0. 0. 0. 1.]]\n"
          ]
        }
      ]
    },
    {
      "cell_type": "code",
      "source": [],
      "metadata": {
        "id": "RvfIkIySfzlP"
      },
      "execution_count": null,
      "outputs": []
    }
  ]
}