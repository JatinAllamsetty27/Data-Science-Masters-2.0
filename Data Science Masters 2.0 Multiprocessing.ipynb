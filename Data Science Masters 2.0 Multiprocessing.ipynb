{
 "cells": [
  {
   "cell_type": "markdown",
   "metadata": {},
   "source": [
    "<div style=\"border-radius:10px;\n",
    "            border:#0b0265 solid;\n",
    "           background-color:#0077be;\n",
    "           font-size:110%;\n",
    "           letter-spacing:0.5px;\n",
    "            text-align: center\">\n",
    "\n",
    "<center><h1 style=\"padding: 25px 0px; background color:#0077be; font-weight: bold; font-family: Cursive\">\n",
    "Data Science Masters 2.0 Multiprocessing</h1></center>\n",
    "\n",
    "</div>"
   ]
  },
  {
   "cell_type": "markdown",
   "metadata": {},
   "source": [
    "## Q1. What is multiprocessing in python? Why is it useful?"
   ]
  },
  {
   "cell_type": "markdown",
   "metadata": {},
   "source": [
    "**Multiprocessing** is a module that allows the execution of multiple processes concurrently. It provides a way to utilize multiple CPU cores or processors to perform tasks in parallel, thereby increasing overall efficiency and speeding up the execution of programs.\n",
    "\n",
    "Traditionally, Python has used a Global Interpreter Lock (GIL) that allows only one thread to execute Python bytecode at a time. This means that even when using threads, the execution of Python code is limited to a single CPU core. However, the multiprocessing module overcomes this limitation by creating separate Python processes, each with its own interpreter and memory space. These processes can run on different CPU cores simultaneously, effectively utilizing the full power of modern multicore systems.\n",
    "\n",
    "Multiprocessing in Python is useful for several reasons:\n",
    "\n",
    "***Parallel Execution:*** Multiprocessing enables parallel execution of tasks, allowing different processes to work on different parts of a problem simultaneously. This is particularly beneficial for computationally intensive tasks, such as data processing, scientific simulations, or machine learning algorithms, where dividing the work among multiple processes can significantly reduce the overall execution time.\n",
    "\n",
    "***Improved Performance:*** By distributing the workload across multiple processes and utilizing multiple CPU cores, multiprocessing can greatly improve the performance of CPU-bound tasks. It allows programs to take advantage of the available hardware resources and achieve faster results.\n",
    "\n",
    "***Isolation and Fault Tolerance:*** Each process spawned by multiprocessing operates independently and has its own memory space. This isolation ensures that if one process encounters an error or crashes, it does not affect the execution of other processes. It enhances fault tolerance and helps in building robust and reliable applications.\n",
    "\n",
    "***Resource Utilization:*** Multiprocessing allows better utilization of system resources, especially in scenarios where there are more CPU cores than threads. It maximizes the utilization of available computing power and enables efficient multitasking.\n",
    "\n",
    "***Simplified Programming:*** The multiprocessing module in Python provides a high-level interface for working with processes. It abstracts away many low-level details, making it easier to write parallel and concurrent programs. It offers various features such as process spawning, inter-process communication, synchronization primitives, and shared memory management."
   ]
  },
  {
   "cell_type": "markdown",
   "metadata": {},
   "source": [
    "## Q2. What are the differences between multiprocessing and multithreading?"
   ]
  },
  {
   "cell_type": "markdown",
   "metadata": {},
   "source": [
    "**Differences between multiprocessing and multithreading:**\n",
    "\n",
    "| Feature                      | Multiprocessing                                   | Multithreading                                  |\n",
    "|------------------------------|---------------------------------------------------|------------------------------------------------|\n",
    "| Execution Model              | Multiple processes                                | Multiple threads                               |\n",
    "| Resource Utilization         | Utilizes multiple CPU cores efficiently           | Limited by Global Interpreter Lock (GIL)       |\n",
    "| Memory and Data Sharing      | Processes have separate memory spaces             | Threads share the same memory space            |\n",
    "| Communication                | Message passing or inter-process communication    | Shared variables or synchronization mechanisms |\n",
    "| Isolation and Fault Tolerance| Processes operate independently                   | Errors/exceptions can impact the entire process|\n",
    "| Programming Complexity       | More complex, requires explicit communication     | Simpler data sharing, but synchronization needed|\n",
    "| Scalability                  | Scales well with the number of CPU cores          | Limited scalability due to the GIL             |\n",
    "\n",
    "It's important to note that the specific use case and requirements of the application should dictate whether multiprocessing or multithreading is the most appropriate choice."
   ]
  },
  {
   "cell_type": "markdown",
   "metadata": {},
   "source": [
    "## Q3. Write a python code to create a process using the multiprocessing module."
   ]
  },
  {
   "cell_type": "code",
   "execution_count": 1,
   "metadata": {},
   "outputs": [
    {
     "name": "stdout",
     "output_type": "stream",
     "text": [
      "Main process completed\n"
     ]
    }
   ],
   "source": [
    "import multiprocessing\n",
    "\n",
    "def process_function():\n",
    "    \"\"\"Function to be executed by the process\"\"\"\n",
    "    print(\"This is a child process\")\n",
    "\n",
    "if __name__ == '__main__':\n",
    "    # Create a Process object\n",
    "    process = multiprocessing.Process(target=process_function)\n",
    "\n",
    "    # Start the process\n",
    "    process.start()\n",
    "\n",
    "    # Wait for the process to complete\n",
    "    process.join()\n",
    "\n",
    "    print(\"Main process completed\")"
   ]
  },
  {
   "cell_type": "markdown",
   "metadata": {},
   "source": [
    "## Q4. What is a multiprocessing pool in python? Why is it used?"
   ]
  },
  {
   "cell_type": "markdown",
   "metadata": {},
   "source": [
    "A multiprocessing pool is a feature provided by the multiprocessing module that allows for easy distribution of tasks among a fixed number of worker processes. It provides a higher-level interface for parallel execution of functions or methods.\n",
    "\n",
    "The multiprocessing pool is implemented using a pool of worker processes, where each process can be assigned a task from a queue of pending tasks. The number of worker processes in the pool is typically determined by the number of CPU cores available."
   ]
  },
  {
   "cell_type": "code",
   "execution_count": null,
   "metadata": {},
   "outputs": [],
   "source": [
    "import multiprocessing\n",
    "\n",
    "def process_function(x):\n",
    "    \"\"\"Function to be executed by each process\"\"\"\n",
    "    return x * x\n",
    "\n",
    "if __name__ == '__main__':\n",
    "    # Create a Pool object with 4 worker processes\n",
    "    pool = multiprocessing.Pool(processes=4)\n",
    "\n",
    "    # Apply the process_function to a range of values\n",
    "    results = pool.map(process_function, range(10))\n",
    "\n",
    "    # Close the pool to prevent any more tasks\n",
    "    pool.close()\n",
    "\n",
    "    # Wait for all processes to complete\n",
    "    pool.join()\n",
    "\n",
    "    print(results)"
   ]
  },
  {
   "cell_type": "markdown",
   "metadata": {},
   "source": [
    "## Q5. How can we create a pool of worker processes in python using the multiprocessing module?"
   ]
  },
  {
   "cell_type": "markdown",
   "metadata": {},
   "source": [
    "The Pool class manages a pool of worker processes and provides an interface for distributing tasks to these processes. Here's an example of how to create a pool of worker processes:"
   ]
  },
  {
   "cell_type": "code",
   "execution_count": null,
   "metadata": {},
   "outputs": [],
   "source": [
    "import multiprocessing\n",
    "\n",
    "def process_function(x):\n",
    "    \"\"\"Function to be executed by each process\"\"\"\n",
    "    return x * x\n",
    "\n",
    "if __name__ == '__main__':\n",
    "    # Create a Pool object with 4 worker processes\n",
    "    pool = multiprocessing.Pool(processes=4)\n",
    "\n",
    "    # Apply the process_function to a range of values\n",
    "    results = pool.map(process_function, range(10))\n",
    "\n",
    "    # Close the pool to prevent any more tasks\n",
    "    pool.close()\n",
    "\n",
    "    # Wait for all processes to complete\n",
    "    pool.join()\n",
    "\n",
    "    print(results)"
   ]
  },
  {
   "cell_type": "markdown",
   "metadata": {},
   "source": [
    "## Q6. Write a python program to create 4 processes, each process should print a different number using the multiprocessing module in python."
   ]
  },
  {
   "cell_type": "code",
   "execution_count": null,
   "metadata": {},
   "outputs": [],
   "source": [
    "import multiprocessing\n",
    "\n",
    "def print_number(number):\n",
    "    \"\"\"Function to be executed by each process\"\"\"\n",
    "    print(\"Process\", number, \"prints\", number)\n",
    "\n",
    "if __name__ == '__main__':\n",
    "    processes = []\n",
    "\n",
    "    for i in range(4):\n",
    "        process = multiprocessing.Process(target=print_number, args=(i,))\n",
    "        processes.append(process)\n",
    "        process.start()\n",
    "\n",
    "    for process in processes:\n",
    "        process.join()\n",
    "\n",
    "    print(\"Main process completed\")"
   ]
  }
 ],
 "metadata": {
  "kernelspec": {
   "display_name": "Python 3",
   "language": "python",
   "name": "python3"
  },
  "language_info": {
   "codemirror_mode": {
    "name": "ipython",
    "version": 3
   },
   "file_extension": ".py",
   "mimetype": "text/x-python",
   "name": "python",
   "nbconvert_exporter": "python",
   "pygments_lexer": "ipython3",
   "version": "3.8.5"
  }
 },
 "nbformat": 4,
 "nbformat_minor": 4
}
