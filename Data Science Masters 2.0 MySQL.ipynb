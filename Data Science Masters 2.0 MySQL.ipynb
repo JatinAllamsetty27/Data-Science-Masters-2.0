{
 "cells": [
  {
   "cell_type": "markdown",
   "metadata": {},
   "source": [
    "<div style=\"border-radius:10px;\n",
    "            border:#0b0265 solid;\n",
    "           background-color:#0077be;\n",
    "           font-size:110%;\n",
    "           letter-spacing:0.5px;\n",
    "            text-align: center\">\n",
    "\n",
    "<center><h1 style=\"padding: 25px 0px; background color:#0077be; font-weight: bold; font-family: Cursive\">\n",
    "Data Science Masters 2.0 MySQL </h1></center>\n",
    "\n",
    "</div>"
   ]
  },
  {
   "cell_type": "markdown",
   "metadata": {},
   "source": [
    "## Q1. What is a database? Differentiate between SQL and NoSQL databases."
   ]
  },
  {
   "cell_type": "markdown",
   "metadata": {},
   "source": [
    "A **database** is a structured collection of data that is organized and stored in a way that allows for efficient retrieval, management, and manipulation of the data. It serves as a central repository for storing and managing information.\n",
    "\n",
    "SQL (Structured Query Language) and NoSQL (Not Only SQL) are two different types of database management systems that differ in their data models, query languages, and underlying architectures."
   ]
  },
  {
   "cell_type": "markdown",
   "metadata": {},
   "source": [
    "The difference table summarizing the key distinctions between SQL and NoSQL databases:\n",
    "\n",
    "|                  | SQL Databases               | NoSQL Databases                                 |\n",
    "|------------------|-----------------------------|-------------------------------------------------|\n",
    "| Data Model       | Relational data model       | Various data models (key-value, document, etc.) |\n",
    "| Schema           | Predefined schema           | Flexible schema or schema-less                  |\n",
    "| Query Language   | SQL                         | Non-SQL query languages or APIs                  |\n",
    "| ACID Properties  | Enforced (data integrity)   | May sacrifice strict consistency                |\n",
    "| Scalability      | Vertical scaling            | Horizontal scaling                              |\n",
    "| Data Structure   | Tabular (tables with rows)  | Flexible (varies based on data model)           |\n",
    "| Performance      | May be slower for complex queries | High performance for read-heavy workloads |\n",
    "| Transaction Support | Supported (ACID properties) | Limited or eventual consistency                |\n",
    "| Examples         | MySQL, Oracle, PostgreSQL   | MongoDB, Cassandra, Redis, Couchbase, Neo4j     |\n"
   ]
  },
  {
   "cell_type": "markdown",
   "metadata": {},
   "source": [
    "## Q2. What is DDL? Explain why CREATE, DROP, ALTER, and TRUNCATE are used with an example."
   ]
  },
  {
   "cell_type": "markdown",
   "metadata": {},
   "source": [
    "DDL (Data Definition Language) is a subset of SQL (Structured Query Language) used to define and manage the structure of a database. It consists of commands such as CREATE, DROP, ALTER, and TRUNCATE that are used to create, modify, and delete database objects."
   ]
  },
  {
   "cell_type": "raw",
   "metadata": {},
   "source": [
    "pip install mysql"
   ]
  },
  {
   "cell_type": "raw",
   "metadata": {},
   "source": [
    "import mysql.connector\n",
    "\n",
    "# Establish a connection to the MySQL database\n",
    "conn = mysql.connector.connect(\n",
    "    host=\"localhost\",\n",
    "    user=\"your_username\",\n",
    "    password=\"your_password\",\n",
    "    database=\"your_database\"\n",
    ")\n",
    "\n",
    "# Create a cursor object to execute SQL statements\n",
    "cursor = conn.cursor()\n",
    "\n",
    "# CREATE table\n",
    "create_table_query = \"\"\"\n",
    "CREATE TABLE Employees (\n",
    "  id INT PRIMARY KEY,\n",
    "  name VARCHAR(50),\n",
    "  age INT,\n",
    "  department VARCHAR(50)\n",
    ")\n",
    "\"\"\"\n",
    "cursor.execute(create_table_query)\n",
    "conn.commit()\n",
    "\n",
    "# ALTER table\n",
    "alter_table_query = \"\"\"\n",
    "ALTER TABLE Employees\n",
    "ADD COLUMN salary DECIMAL(10, 2)\n",
    "\"\"\"\n",
    "cursor.execute(alter_table_query)\n",
    "conn.commit()\n",
    "\n",
    "# DROP table\n",
    "drop_table_query = \"\"\"\n",
    "DROP TABLE Employees\n",
    "\"\"\"\n",
    "cursor.execute(drop_table_query)\n",
    "conn.commit()\n",
    "\n",
    "# TRUNCATE table\n",
    "truncate_table_query = \"\"\"\n",
    "TRUNCATE TABLE Employees\n",
    "\"\"\"\n",
    "cursor.execute(truncate_table_query)\n",
    "conn.commit()\n",
    "\n",
    "# Close the cursor and connection\n",
    "cursor.close()\n",
    "conn.close()"
   ]
  },
  {
   "cell_type": "markdown",
   "metadata": {},
   "source": [
    "## Q3. What is DML? Explain INSERT, UPDATE, and DELETE with an example."
   ]
  },
  {
   "cell_type": "markdown",
   "metadata": {},
   "source": [
    "DML (Data Manipulation Language) is a subset of SQL (Structured Query Language) used to manage and manipulate data within a database. DML statements include INSERT, UPDATE, and DELETE, which allow you to add, modify, and delete data in database tables."
   ]
  },
  {
   "cell_type": "raw",
   "metadata": {},
   "source": [
    "import mysql.connector\n",
    "\n",
    "# Establish a connection to the MySQL database\n",
    "conn = mysql.connector.connect(\n",
    "    host=\"localhost\",\n",
    "    user=\"your_username\",\n",
    "    password=\"your_password\",\n",
    "    database=\"your_database\"\n",
    ")\n",
    "\n",
    "# Create a cursor object to execute SQL statements\n",
    "cursor = conn.cursor()\n",
    "\n",
    "# INSERT statement\n",
    "insert_query = \"\"\"\n",
    "INSERT INTO Employees (id, name, age, department)\n",
    "VALUES (%s, %s, %s, %s)\n",
    "\"\"\"\n",
    "values = (1, 'John Doe', 30, 'Sales')\n",
    "cursor.execute(insert_query, values)\n",
    "conn.commit()\n",
    "\n",
    "# UPDATE statement\n",
    "update_query = \"\"\"\n",
    "UPDATE Employees\n",
    "SET age = %s\n",
    "WHERE id = %s\n",
    "\"\"\"\n",
    "values = (32, 1)\n",
    "cursor.execute(update_query, values)\n",
    "conn.commit()\n",
    "\n",
    "# DELETE statement\n",
    "delete_query = \"\"\"\n",
    "DELETE FROM Employees\n",
    "WHERE id = %s\n",
    "\"\"\"\n",
    "values = (1,)\n",
    "cursor.execute(delete_query, values)\n",
    "conn.commit()\n",
    "\n",
    "# Close the cursor and connection\n",
    "cursor.close()\n",
    "conn.close()"
   ]
  },
  {
   "cell_type": "markdown",
   "metadata": {},
   "source": [
    "## Q4. What is DQL? Explain SELECT with an example."
   ]
  },
  {
   "cell_type": "markdown",
   "metadata": {},
   "source": [
    "DQL stands for Data Query Language, which is a subset of SQL (Structured Query Language) used to retrieve and query data from a database. The most common and fundamental DQL statement is SELECT, which allows you to specify the columns, conditions, and sorting for retrieving data from database tables."
   ]
  },
  {
   "cell_type": "raw",
   "metadata": {},
   "source": [
    "import mysql.connector\n",
    "\n",
    "# Establish a connection to the MySQL database\n",
    "conn = mysql.connector.connect(\n",
    "    host=\"localhost\",\n",
    "    user=\"your_username\",\n",
    "    password=\"your_password\",\n",
    "    database=\"your_database\"\n",
    ")\n",
    "\n",
    "# Create a cursor object to execute SQL statements\n",
    "cursor = conn.cursor()\n",
    "\n",
    "# SELECT statement\n",
    "select_query = \"\"\"\n",
    "SELECT id, name, age, department\n",
    "FROM Employees\n",
    "WHERE department = %s\n",
    "ORDER BY age DESC\n",
    "\"\"\"\n",
    "values = ('Sales',)\n",
    "cursor.execute(select_query, values)\n",
    "\n",
    "# Fetch all rows returned by the SELECT statement\n",
    "rows = cursor.fetchall()\n",
    "\n",
    "# Process the fetched rows\n",
    "for row in rows:\n",
    "    emp_id, emp_name, emp_age, emp_dept = row\n",
    "    print(f\"ID: {emp_id}, Name: {emp_name}, Age: {emp_age}, Department: {emp_dept}\")\n",
    "\n",
    "# Close the cursor and connection\n",
    "cursor.close()\n",
    "conn.close()"
   ]
  },
  {
   "cell_type": "markdown",
   "metadata": {},
   "source": [
    "## Q5. Explain Primary Key and Foreign Key."
   ]
  },
  {
   "cell_type": "markdown",
   "metadata": {},
   "source": [
    "**Primary Key:**\n",
    "A primary key is a column or a set of columns in a database table that uniquely identifies each record in the table. It serves as a unique identifier for each row and ensures data integrity and uniqueness within the table. Here are some key points about primary keys:\n",
    "\n",
    "Uniqueness: Each value in the primary key column(s) must be unique, meaning no two rows can have the same primary key value.\n",
    "Non-nullability: Primary key values cannot be null or empty. Every row in the table must have a valid primary key value.\n",
    "Uniquely identifies a record: The primary key uniquely identifies a specific record in the table, allowing easy retrieval and referencing of data.\n",
    "Indexed: Primary keys are usually indexed, which facilitates faster data retrieval and improves query performance.\n",
    "Example: In a table of \"Students,\" an \"ID\" column can be defined as the primary key, ensuring each student record has a unique identifier.\n",
    "\n",
    "**Foreign Key:**\n",
    "A foreign key is a column or a set of columns in a database table that establishes a link or relationship between the data in two tables. It represents a reference to the primary key in another table and enables the enforcement of referential integrity. Here are some key points about foreign keys:\n",
    "\n",
    "Relationship between tables: A foreign key establishes a relationship between two tables by referring to the primary key of another table.\n",
    "Ensures referential integrity: The foreign key ensures that the values in the referencing table (child table) correspond to the values in the referenced table (parent table).\n",
    "Constraint: A foreign key can be defined as a constraint to enforce data consistency and prevent orphaned records.\n",
    "Example: In a table of \"Orders,\" a \"CustomerID\" column can be defined as a foreign key, referring to the primary key column \"CustomerID\" in the \"Customers\" table, establishing a link between the orders and the corresponding customers."
   ]
  },
  {
   "cell_type": "markdown",
   "metadata": {},
   "source": [
    "## Q6. Write a python code to connect MySQL to python. Explain the cursor() and execute() method."
   ]
  },
  {
   "cell_type": "code",
   "execution_count": 2,
   "metadata": {},
   "outputs": [
    {
     "name": "stdout",
     "output_type": "stream",
     "text": [
      "Collecting mysql.connector\n",
      "  Downloading mysql-connector-2.2.9.tar.gz (11.9 MB)\n",
      "Building wheels for collected packages: mysql.connector\n",
      "  Building wheel for mysql.connector (setup.py): started\n",
      "  Building wheel for mysql.connector (setup.py): finished with status 'done'\n",
      "  Created wheel for mysql.connector: filename=mysql_connector-2.2.9-cp38-cp38-win_amd64.whl size=247947 sha256=7703c3722aeeb1c3e7b58e4e87f58aaac3703d41f4359f1bc7583529192eee8e\n",
      "Note: you may need to restart the kernel to use updated packages.  Stored in directory: c:\\users\\91812\\appdata\\local\\pip\\cache\\wheels\\57\\e4\\98\\5feafb5c393dd2540e44b064a6f95832990d543e5b4f53ea8f\n",
      "Successfully built mysql.connector\n",
      "Installing collected packages: mysql.connector\n",
      "\n",
      "Successfully installed mysql.connector\n"
     ]
    }
   ],
   "source": [
    "pip install mysql.connector"
   ]
  },
  {
   "cell_type": "raw",
   "metadata": {},
   "source": [
    "import mysql.connector\n",
    "\n",
    "# Establish a connection to the MySQL database\n",
    "conn = mysql.connector.connect(\n",
    "    host=\"localhost\",\n",
    "    user=\"10\",\n",
    "    password=\"Jatin@5544\",\n",
    "    database=\"your_database\"\n",
    ")\n",
    "\n",
    "# Create a cursor object to execute SQL statements\n",
    "cursor = conn.cursor()\n",
    "\n",
    "# Execute a SELECT statement\n",
    "query = \"SELECT * FROM Employees\"\n",
    "cursor.execute(query)\n",
    "\n",
    "# Fetch all rows returned by the SELECT statement\n",
    "rows = cursor.fetchall()\n",
    "\n",
    "# Process the fetched rows\n",
    "for row in rows:\n",
    "    print(row)\n",
    "\n",
    "# Close the cursor and connection\n",
    "cursor.close()\n",
    "conn.close()"
   ]
  },
  {
   "cell_type": "markdown",
   "metadata": {},
   "source": [
    "## Q7. Give the order of execution of SQL clauses in an SQL query."
   ]
  },
  {
   "cell_type": "markdown",
   "metadata": {},
   "source": [
    "When executing an SQL query with Python integration, the order of execution of SQL clauses follows a specific sequence. Here's the typical order of execution:\n",
    "\n",
    "1. FROM clause: Specifies the table(s) from which the data will be retrieved.\n",
    "\n",
    "2. WHERE clause: Filters the data based on specified conditions.\n",
    "\n",
    "3. GROUP BY clause: Groups the data based on specified columns.\n",
    "\n",
    "4. HAVING clause: Filters the grouped data based on specified conditions.\n",
    "\n",
    "5. SELECT clause: Selects the columns to be included in the result set.\n",
    "\n",
    "6. ORDER BY clause: Sorts the result set based on specified columns.\n",
    "\n",
    "7. LIMIT/OFFSET clause: Limits the number of rows returned or skips a specified number of rows.\n"
   ]
  }
 ],
 "metadata": {
  "kernelspec": {
   "display_name": "Python 3",
   "language": "python",
   "name": "python3"
  },
  "language_info": {
   "codemirror_mode": {
    "name": "ipython",
    "version": 3
   },
   "file_extension": ".py",
   "mimetype": "text/x-python",
   "name": "python",
   "nbconvert_exporter": "python",
   "pygments_lexer": "ipython3",
   "version": "3.8.5"
  }
 },
 "nbformat": 4,
 "nbformat_minor": 4
}
