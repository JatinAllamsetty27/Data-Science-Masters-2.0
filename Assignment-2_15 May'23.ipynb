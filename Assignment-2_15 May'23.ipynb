{
 "cells": [
  {
   "cell_type": "markdown",
   "metadata": {},
   "source": [
    "<div style=\"border-radius:10px;\n",
    "            border:#0b0265 solid;\n",
    "           background-color:#0077be;\n",
    "           font-size:110%;\n",
    "           letter-spacing:0.5px;\n",
    "            text-align: center\">\n",
    "\n",
    "<center><h1 style=\"padding: 25px 0px; background color:#0077be; font-weight: bold; font-family: Cursive\">\n",
    "Data Science Masters 2.0 Assignment 2 15th May 2023</h1></center>\n",
    "\n",
    "</div>"
   ]
  },
  {
   "cell_type": "markdown",
   "metadata": {},
   "source": [
    "## Q1. How do you comment code in Python? What are the different types of comments?"
   ]
  },
  {
   "cell_type": "markdown",
   "metadata": {},
   "source": [
    "There are two types of comments in Python they are Single and Multiline comments.\n",
    "\n",
    "**Single-line comments:** Single-line comments start with the hash symbol (#) and continue until the end of the line. They are used to comment on a single line of code."
   ]
  },
  {
   "cell_type": "code",
   "execution_count": 1,
   "metadata": {},
   "outputs": [],
   "source": [
    "#this is the syntax for single line comment"
   ]
  },
  {
   "cell_type": "markdown",
   "metadata": {},
   "source": [
    "**Multiline comments :** Multi-line comments, also known as docstrings, are used to provide a description or documentation for a function, module, or class. They can span multiple lines and are enclosed between triple quotes (''' or \"\"\")."
   ]
  },
  {
   "cell_type": "code",
   "execution_count": 2,
   "metadata": {},
   "outputs": [],
   "source": [
    "'''\n",
    "This is a multi-line comment\n",
    "It can span multiple lines\n",
    "'''\n",
    "\n",
    "def add_numbers(a, b):\n",
    "    \"\"\"\"\n",
    "    This function takes two numbers as input and returns their sum.\n",
    "    \"\"\"\n",
    "    return a + b"
   ]
  },
  {
   "cell_type": "markdown",
   "metadata": {},
   "source": [
    "## Q2. What are variables in Python? How do you declare and assign values to variables?"
   ]
  },
  {
   "cell_type": "markdown",
   "metadata": {},
   "source": [
    "Variables are used to store and reference data values. They are essentially names given to a memory location where data can be stored. Variables can hold different types of data such as numbers, strings, lists, or even more complex objects."
   ]
  },
  {
   "cell_type": "markdown",
   "metadata": {},
   "source": [
    "To declare and assign values to variables in Python, we should follow these guidelines:\n",
    "\n",
    "**Variable Declaration:** In Python, you don't need to explicitly declare variables with a specific type. Variables are created on the fly when you assign a value to them.\n",
    "\n",
    "**Variable Naming:** Variable names in Python should follow certain rules:\n",
    "\n",
    "1.They must start with a letter (a-z, A-Z) or an underscore (_).\n",
    "\n",
    "2.They can contain letters, digits (0-9), or underscores.\n",
    "\n",
    "3.They are case-sensitive (e.g., myVariable and myvariable are considered different).\n",
    "\n",
    "**Assigning Values:** You can assign a value to a variable using the assignment operator (=). The value on the right side of the operator is assigned to the variable on the left side."
   ]
  },
  {
   "cell_type": "code",
   "execution_count": 3,
   "metadata": {},
   "outputs": [],
   "source": [
    "# Variable assignment\n",
    "name = \"Jatin\"\n",
    "age = 25\n",
    "pi = 3.14\n",
    "is_student = True"
   ]
  },
  {
   "cell_type": "code",
   "execution_count": 4,
   "metadata": {},
   "outputs": [],
   "source": [
    "# Multiple assignment\n",
    "a, b, c = 1, 2, 3"
   ]
  },
  {
   "cell_type": "markdown",
   "metadata": {},
   "source": [
    "## Q3. How do you convert one data type to another in Python?"
   ]
  },
  {
   "cell_type": "markdown",
   "metadata": {},
   "source": [
    "There are two types of type conversion in Python."
   ]
  },
  {
   "cell_type": "markdown",
   "metadata": {},
   "source": [
    "**Implicit Type Conversion:** Python automatically performs implicit type conversion when you combine different data types in expressions. For example, if you add an integer and a float, Python will convert the integer to a float before performing the addition."
   ]
  },
  {
   "cell_type": "markdown",
   "metadata": {},
   "source": [
    "**Explicit Type Conversion:**\n",
    "\n",
    "int(): Convert to an integer. This function truncates any decimal part and returns the whole number.\n",
    "    \n",
    "float(): Convert to a float. This function converts the value to a floating-point number.\n",
    "\n",
    "str(): Convert to a string. This function converts the value to a string representation.\n",
    "\n",
    "list(), tuple(), set(), dict(): Convert to other data structures. These functions can be used to convert data to different collection types.\n",
    "\n",
    "bool(): Convert to a boolean. This function converts the value to a boolean representation."
   ]
  },
  {
   "cell_type": "code",
   "execution_count": 6,
   "metadata": {},
   "outputs": [],
   "source": [
    "# Implicit type conversion\n",
    "x = 5       # integer\n",
    "y = 2.5     # float\n",
    "result = x + y   # Implicit conversion of x to float: 5.0 + 2.5 = 7.5\n",
    "\n",
    "# Explicit type conversion\n",
    "a = 5.7\n",
    "b = int(a)   # b will be 5\n",
    "\n",
    "c = 5\n",
    "d = float(c)   # d will be 5.0\n",
    "\n",
    "e = 5\n",
    "f = str(e)   # f will be the string \"5\"\n",
    "\n",
    "g = \"Hello\"\n",
    "h = list(g)   # h will be a list containing ['H', 'e', 'l', 'l', 'o']\n",
    "i = tuple(g)  # i will be a tuple containing ('H', 'e', 'l', 'l', 'o')\n",
    "\n",
    "j = 0\n",
    "k = bool(j)   # k will be False\n"
   ]
  },
  {
   "cell_type": "markdown",
   "metadata": {},
   "source": [
    "## Q4. How do you write and execute a Python script from the command line?"
   ]
  },
  {
   "cell_type": "markdown",
   "metadata": {},
   "source": [
    "How to write and execute a Python script from the command line:\n",
    "\n",
    "1. Open a text editor: Open a text editor such as Notepad, Sublime Text, or Visual Studio Code. This will be used to write your Python script.\n",
    "\n",
    "2. Write Python code: Inside the text editor, write your Python code. You can include any valid Python statements, functions, or classes. For example, you can write **print(\"Hello, world!\")** to display \"Hello, world!\" as output.\n",
    "\n",
    "3. Save the file: Save the file with a **.py** extension. For example, you can save it as **script.py**. Make sure to choose a meaningful and descriptive filename.\n",
    "\n",
    "4. Open the command line: Open the command line or terminal on your operating system. The exact method of opening the command line varies depending on your operating system. On Windows, you can press Win + R, type \"cmd,\" and press Enter. On macOS, you can use Spotlight search to find and open the Terminal application. On Linux, you can use the shortcut Ctrl + Alt + T to open a terminal emulator.\n",
    "\n",
    "5. Navigate to the script's directory: Use the **cd** command (Change Directory) in the command line to navigate to the directory where your Python script is located. For example, if your script is located in **C:\\Users\\YourUsername\\Scripts**, you would use the command **cd C:\\Users\\YourUsername\\Scripts**.\n",
    "\n",
    "6. Execute the script: Once you are in the correct directory, you can execute the Python script by typing **python** followed by the script's filename (including the **.py** extension). For example, you would run the script **script.py** by typing **python script.py** in the command line and pressing Enter.\n",
    "\n",
    "   The Python interpreter will execute your script, and any output or errors will be displayed in the command line. In this case, the output \"Hello, world!\" will be displayed.\n",
    "\n",
    "Make sure that Python is installed on your system and added to the system's PATH environment variable so that the **python** command is recognized. If Python is not recognized, you may need to specify the full path to the Python interpreter in the command.\n",
    "\n",
    "Following these steps, you will be able to write and execute a Python script from the command line."
   ]
  },
  {
   "cell_type": "markdown",
   "metadata": {},
   "source": [
    "## Q5. Given a list my_list = [1, 2, 3, 4, 5], write the code to slice the list and obtain the sub-list [2, 3]."
   ]
  },
  {
   "cell_type": "code",
   "execution_count": 7,
   "metadata": {},
   "outputs": [
    {
     "name": "stdout",
     "output_type": "stream",
     "text": [
      "[2, 3]\n"
     ]
    }
   ],
   "source": [
    "my_list = [1, 2, 3, 4, 5]\n",
    "sub_list = my_list[1:3]\n",
    "print(sub_list)"
   ]
  },
  {
   "cell_type": "markdown",
   "metadata": {},
   "source": [
    "## Q6. What is a complex number in mathematics, and how is it represented in Python?"
   ]
  },
  {
   "cell_type": "markdown",
   "metadata": {},
   "source": [
    "In mathematics, a complex number is a number that comprises both a real part and an imaginary part. It is expressed in the form a + bi, where a represents the real part, b represents the imaginary part, and i is the imaginary unit (√-1). The real part and the imaginary part can be any real numbers."
   ]
  },
  {
   "cell_type": "markdown",
   "metadata": {},
   "source": [
    "In Python, complex numbers are fully supported as a built-in data type. They are represented using the complex class. The imaginary part is denoted using the suffix j or J"
   ]
  },
  {
   "cell_type": "code",
   "execution_count": 8,
   "metadata": {},
   "outputs": [
    {
     "name": "stdout",
     "output_type": "stream",
     "text": [
      "(2+3j)\n"
     ]
    }
   ],
   "source": [
    "# Complex number representation\n",
    "z = 2 + 3j\n",
    "print(z)\n"
   ]
  },
  {
   "cell_type": "markdown",
   "metadata": {},
   "source": [
    "## Q7. What is the correct way to declare a variable named age and assign the value 25 to it?"
   ]
  },
  {
   "cell_type": "code",
   "execution_count": 9,
   "metadata": {},
   "outputs": [],
   "source": [
    "age = 25"
   ]
  },
  {
   "cell_type": "markdown",
   "metadata": {},
   "source": [
    "In this code, the variable age is declared and assigned the value 25 using the assignment operator (=). Python does not require explicit type declarations, so you don't need to specify the type of the variable. Python infers the type based on the assigned value."
   ]
  },
  {
   "cell_type": "markdown",
   "metadata": {},
   "source": [
    "## Q8. Declare a variable named price and assign the value 9.99 to it. What data type does this variable belong to?"
   ]
  },
  {
   "cell_type": "code",
   "execution_count": 10,
   "metadata": {},
   "outputs": [],
   "source": [
    "price = 9.99"
   ]
  },
  {
   "cell_type": "markdown",
   "metadata": {},
   "source": [
    "In this code, the variable price is declared and assigned the value 9.99 using the assignment operator (=).\n",
    "\n",
    "The data type of the variable price is a float. In Python, a float represents a floating-point number, which is a number with a fractional part. The value 9.99 contains a decimal point, making it a floating-point value. Python infers the data type based on the assigned value, so the variable price is of type float."
   ]
  },
  {
   "cell_type": "markdown",
   "metadata": {},
   "source": [
    "## Q9. Create a variable named name and assign your full name to it as a string. How would you print the value of this variable?"
   ]
  },
  {
   "cell_type": "code",
   "execution_count": 11,
   "metadata": {},
   "outputs": [],
   "source": [
    "name=\"Jatin Allamsetty\""
   ]
  },
  {
   "cell_type": "markdown",
   "metadata": {},
   "source": [
    "In this code, the variable name is declared and assigned the value \"John Doe\" using double quotes (\").\n",
    "\n",
    "To print the value of the name variable, you can use the print() function in Python. "
   ]
  },
  {
   "cell_type": "code",
   "execution_count": 12,
   "metadata": {},
   "outputs": [
    {
     "name": "stdout",
     "output_type": "stream",
     "text": [
      "Jatin Allamsetty\n"
     ]
    }
   ],
   "source": [
    "print(name)"
   ]
  },
  {
   "cell_type": "markdown",
   "metadata": {},
   "source": [
    "## Q10. Given the string \"Hello, World!\", extract the substring \"World\"."
   ]
  },
  {
   "cell_type": "code",
   "execution_count": 13,
   "metadata": {},
   "outputs": [
    {
     "name": "stdout",
     "output_type": "stream",
     "text": [
      "World\n"
     ]
    }
   ],
   "source": [
    "string = \"Hello, World!\"\n",
    "substring = string[7:12]\n",
    "print(substring)"
   ]
  },
  {
   "cell_type": "raw",
   "metadata": {},
   "source": [
    "In this code, the slicing operation string[7:12] extracts a portion of the string starting from index 7 and ending at index 12 (exclusive). The resulting substring is then stored in the variable substring."
   ]
  },
  {
   "cell_type": "markdown",
   "metadata": {},
   "source": [
    "## Q11. Create a variable named \"is_student\" and assign it a boolean value indicating whether you are currently a student or not."
   ]
  },
  {
   "cell_type": "code",
   "execution_count": 14,
   "metadata": {},
   "outputs": [],
   "source": [
    "is_student = True"
   ]
  },
  {
   "cell_type": "markdown",
   "metadata": {},
   "source": [
    "In this code, the variable is_student is declared and assigned the value True.\n",
    "\n",
    "By assigning True to the variable is_student, it indicates that you are currently a student. If you are not a student, you can assign False instead."
   ]
  }
 ],
 "metadata": {
  "kernelspec": {
   "display_name": "Python 3",
   "language": "python",
   "name": "python3"
  },
  "language_info": {
   "codemirror_mode": {
    "name": "ipython",
    "version": 3
   },
   "file_extension": ".py",
   "mimetype": "text/x-python",
   "name": "python",
   "nbconvert_exporter": "python",
   "pygments_lexer": "ipython3",
   "version": "3.8.5"
  }
 },
 "nbformat": 4,
 "nbformat_minor": 4
}
