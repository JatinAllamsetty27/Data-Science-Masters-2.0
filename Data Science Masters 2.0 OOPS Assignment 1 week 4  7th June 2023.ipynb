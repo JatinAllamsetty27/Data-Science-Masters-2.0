{
 "cells": [
  {
   "cell_type": "markdown",
   "metadata": {},
   "source": [
    "<div style=\"border-radius:10px;\n",
    "            border:#0b0265 solid;\n",
    "           background-color:#0077be;\n",
    "           font-size:110%;\n",
    "           letter-spacing:0.5px;\n",
    "            text-align: center\">\n",
    "\n",
    "<center><h1 style=\"padding: 25px 0px; background color:#0077be; font-weight: bold; font-family: Cursive\">\n",
    "Data Science Masters 2.0 OOPS Assignment 1 week 4  7th June 2023</h1></center>\n",
    "\n",
    "</div>"
   ]
  },
  {
   "cell_type": "markdown",
   "metadata": {},
   "source": [
    "## Q1. Explain Class and Object with respect to Object-Oriented Programming. Give a suitable example."
   ]
  },
  {
   "cell_type": "markdown",
   "metadata": {},
   "source": [
    "In object-oriented programming (OOP), a class is a blueprint or template that defines the properties and behaviors (methods) of a particular type of object. It serves as a blueprint for creating individual instances of that class, known as objects.\n",
    "\n",
    "An object is an instance of a class. It represents a specific entity or concept based on the class definition. Each object has its own unique state and behavior, but all objects of the same class share the same structure and behavior defined by the class."
   ]
  },
  {
   "cell_type": "code",
   "execution_count": 1,
   "metadata": {},
   "outputs": [],
   "source": [
    "class Car:\n",
    "    def __init__(self, brand, color):\n",
    "        self.brand = brand\n",
    "        self.color = color\n",
    "        \n",
    "    def start_engine(self):\n",
    "        print(\"The {} car with {} color is starting the engine.\".format(self.brand, self.color))\n",
    "    \n",
    "    def drive(self):\n",
    "        print(\"The {} car with {} color is driving.\".format(self.brand, self.color))"
   ]
  },
  {
   "cell_type": "code",
   "execution_count": 2,
   "metadata": {},
   "outputs": [],
   "source": [
    "car1 = Car(\"Toyota\", \"Red\")\n",
    "car2 = Car(\"Honda\", \"Blue\")"
   ]
  },
  {
   "cell_type": "code",
   "execution_count": 3,
   "metadata": {},
   "outputs": [
    {
     "name": "stdout",
     "output_type": "stream",
     "text": [
      "Toyota\n",
      "Blue\n",
      "The Toyota car with Red color is starting the engine.\n",
      "The Honda car with Blue color is driving.\n"
     ]
    }
   ],
   "source": [
    "print(car1.brand)  \n",
    "print(car2.color)  \n",
    "\n",
    "car1.start_engine() \n",
    "car2.drive()       "
   ]
  },
  {
   "cell_type": "markdown",
   "metadata": {},
   "source": [
    "## Q2. Name the four pillars of OOPs."
   ]
  },
  {
   "cell_type": "markdown",
   "metadata": {},
   "source": [
    "The four pillars of object-oriented programming (OOP) are:\n",
    "\n",
    "1. Encapsulation: Encapsulation is the process of bundling data (attributes) and methods (behaviors) together within a class. It allows the class to control the access to its internal data, providing data hiding and abstraction. Encapsulation helps in achieving better code organization, modularity, and security.\n",
    "\n",
    "2. Inheritance: Inheritance is a mechanism that allows a class to inherit the properties and methods of another class. The class that is inherited from is called the parent class or superclass, and the class that inherits is called the child class or subclass. Inheritance promotes code reuse, allows for the creation of specialized classes, and facilitates the concept of \"is-a\" relationships.\n",
    "\n",
    "3. Polymorphism: Polymorphism means the ability of an object to take on many forms. It allows objects of different classes to be treated as objects of a common superclass. Polymorphism enables code flexibility and extensibility by providing methods with the same name but different implementations in different classes. It allows for method overriding and method overloading.\n",
    "\n",
    "4. Abstraction: Abstraction is the process of simplifying complex systems by breaking them down into smaller, more manageable components. It involves creating abstract classes or interfaces that define a common set of properties and behaviors for a group of related objects. Abstraction hides the internal details of objects and focuses on their essential characteristics. It allows for code reusability, modularity, and the creation of hierarchies.\n",
    "\n",
    "These four pillars of OOP work together to provide a powerful and flexible programming paradigm for designing and implementing complex systems. They promote code organization, modularity, reusability, and maintainability."
   ]
  },
  {
   "cell_type": "markdown",
   "metadata": {},
   "source": [
    "## Q3. Explain why the __init__() function is used. Give a suitable example."
   ]
  },
  {
   "cell_type": "markdown",
   "metadata": {},
   "source": [
    "The __init__() function, also known as the constructor, is a special method in Python classes. It is automatically called when an object of the class is created. The primary purpose of the __init__() function is to initialize the attributes (data members) of an object with the provided values or default values."
   ]
  },
  {
   "cell_type": "code",
   "execution_count": 4,
   "metadata": {},
   "outputs": [],
   "source": [
    "class Person:\n",
    "    def __init__(self, name, age):\n",
    "        self.name = name\n",
    "        self.age = age\n",
    "    \n",
    "    def display_info(self):\n",
    "        print(\"Name: {}, Age: {}\".format(self.name, self.age))"
   ]
  },
  {
   "cell_type": "code",
   "execution_count": 5,
   "metadata": {},
   "outputs": [],
   "source": [
    "person = Person(\"John\", 30)"
   ]
  },
  {
   "cell_type": "code",
   "execution_count": 6,
   "metadata": {},
   "outputs": [
    {
     "name": "stdout",
     "output_type": "stream",
     "text": [
      "Name: John, Age: 30\n"
     ]
    }
   ],
   "source": [
    "person.display_info() "
   ]
  },
  {
   "cell_type": "markdown",
   "metadata": {},
   "source": [
    "## Q4. Why self is used in OOPs?"
   ]
  },
  {
   "cell_type": "markdown",
   "metadata": {},
   "source": [
    "In object-oriented programming (OOP), self is a convention used to refer to the instance of a class within the class methods. It is a reference to the current object being operated upon. The use of self allows accessing and manipulating the attributes and methods of the object."
   ]
  },
  {
   "cell_type": "markdown",
   "metadata": {},
   "source": [
    "self is used in OOP to reference the current instance of a class. It enables accessing instance variables, invoking methods, maintaining object identity, and supporting inheritance and polymorphism. It is a fundamental concept in Python and other object-oriented programming languages."
   ]
  },
  {
   "cell_type": "markdown",
   "metadata": {},
   "source": [
    "## Q5. What is inheritance? Give an example for each type of inheritance."
   ]
  },
  {
   "cell_type": "markdown",
   "metadata": {},
   "source": [
    "Inheritance is a fundamental concept in object-oriented programming (OOP) that allows a class to inherit properties and behaviors from another class. The class that inherits is called the \"subclass\" or \"derived class,\" and the class being inherited from is called the \"superclass\" or \"base class.\" Inheritance promotes code reusability, extensibility, and the organization of classes into a hierarchical structure."
   ]
  },
  {
   "cell_type": "markdown",
   "metadata": {},
   "source": [
    "**Single Inheritance:**\n",
    "Single inheritance refers to a subclass inheriting properties and methods from a single superclass. It represents an \"is-a\" relationship between classes."
   ]
  },
  {
   "cell_type": "code",
   "execution_count": 7,
   "metadata": {},
   "outputs": [
    {
     "name": "stdout",
     "output_type": "stream",
     "text": [
      "Driving the Toyota\n"
     ]
    }
   ],
   "source": [
    "class Vehicle:\n",
    "    def __init__(self, brand):\n",
    "        self.brand = brand\n",
    "\n",
    "    def drive(self):\n",
    "        print(\"Driving the\", self.brand)\n",
    "\n",
    "class Car(Vehicle):\n",
    "    def __init__(self, brand, color):\n",
    "        super().__init__(brand)\n",
    "        self.color = color\n",
    "\n",
    "car = Car(\"Toyota\", \"Red\")\n",
    "car.drive() "
   ]
  },
  {
   "cell_type": "markdown",
   "metadata": {},
   "source": [
    "**Multiple Inheritance:**\n",
    "Multiple inheritance refers to a subclass inheriting properties and methods from multiple superclasses. It allows a class to inherit from multiple classes, combining their functionalities."
   ]
  },
  {
   "cell_type": "code",
   "execution_count": 8,
   "metadata": {},
   "outputs": [
    {
     "name": "stdout",
     "output_type": "stream",
     "text": [
      "Eating...\n",
      "Flying...\n"
     ]
    }
   ],
   "source": [
    "class Animal:\n",
    "    def eat(self):\n",
    "        print(\"Eating...\")\n",
    "\n",
    "class Flyable:\n",
    "    def fly(self):\n",
    "        print(\"Flying...\")\n",
    "\n",
    "class Bird(Animal, Flyable):\n",
    "    def __init__(self, species):\n",
    "        self.species = species\n",
    "\n",
    "\n",
    "bird = Bird(\"Sparrow\")\n",
    "bird.eat()  \n",
    "bird.fly()  "
   ]
  },
  {
   "cell_type": "markdown",
   "metadata": {},
   "source": [
    "**Multilevel Inheritance:**\n",
    "Multilevel inheritance refers to a subclass inheriting properties and methods from a superclass, which itself inherits from another superclass. It forms a chain of inheritance."
   ]
  },
  {
   "cell_type": "code",
   "execution_count": 9,
   "metadata": {},
   "outputs": [
    {
     "name": "stdout",
     "output_type": "stream",
     "text": [
      "Eating...\n",
      "Running...\n",
      "Barking...\n"
     ]
    }
   ],
   "source": [
    "class Animal:\n",
    "    def eat(self):\n",
    "        print(\"Eating...\")\n",
    "\n",
    "class Mammal(Animal):\n",
    "    def run(self):\n",
    "        print(\"Running...\")\n",
    "\n",
    "class Dog(Mammal):\n",
    "    def bark(self):\n",
    "        print(\"Barking...\")\n",
    "\n",
    "\n",
    "dog = Dog()\n",
    "dog.eat()  \n",
    "dog.run()  \n",
    "dog.bark()  "
   ]
  },
  {
   "cell_type": "markdown",
   "metadata": {},
   "source": [
    "**Hierarchical Inheritance:**\n",
    "Hierarchical inheritance refers to multiple subclasses inheriting properties and methods from a single superclass. It represents an inheritance hierarchy with multiple levels of subclasses."
   ]
  },
  {
   "cell_type": "code",
   "execution_count": 10,
   "metadata": {},
   "outputs": [
    {
     "name": "stdout",
     "output_type": "stream",
     "text": [
      "Drawing the shape...\n",
      "Calculating the area of the circle...\n",
      "Drawing the shape...\n",
      "Calculating the area of the rectangle...\n"
     ]
    }
   ],
   "source": [
    "class Shape:\n",
    "    def draw(self):\n",
    "        print(\"Drawing the shape...\")\n",
    "\n",
    "class Circle(Shape):\n",
    "    def calculate_area(self):\n",
    "        print(\"Calculating the area of the circle...\")\n",
    "\n",
    "class Rectangle(Shape):\n",
    "    def calculate_area(self):\n",
    "        print(\"Calculating the area of the rectangle...\")\n",
    "\n",
    "circle = Circle()\n",
    "rectangle = Rectangle()\n",
    "\n",
    "circle.draw()  \n",
    "circle.calculate_area()  \n",
    "\n",
    "rectangle.draw()  \n",
    "rectangle.calculate_area()"
   ]
  }
 ],
 "metadata": {
  "kernelspec": {
   "display_name": "Python 3",
   "language": "python",
   "name": "python3"
  },
  "language_info": {
   "codemirror_mode": {
    "name": "ipython",
    "version": 3
   },
   "file_extension": ".py",
   "mimetype": "text/x-python",
   "name": "python",
   "nbconvert_exporter": "python",
   "pygments_lexer": "ipython3",
   "version": "3.8.5"
  }
 },
 "nbformat": 4,
 "nbformat_minor": 4
}
