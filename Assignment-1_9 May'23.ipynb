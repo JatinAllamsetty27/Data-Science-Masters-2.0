{
 "cells": [
  {
   "cell_type": "markdown",
   "metadata": {},
   "source": [
    "<div style=\"border-radius:10px;\n",
    "            border:#0b0265 solid;\n",
    "           background-color:#0077be;\n",
    "           font-size:110%;\n",
    "           letter-spacing:0.5px;\n",
    "            text-align: center\">\n",
    "\n",
    "<center><h1 style=\"padding: 25px 0px; background color:#0077be; font-weight: bold; font-family: Cursive\">\n",
    "Data Science Masters 2.0 Assignment 1 9th May 2023</h1></center>\n",
    "\n",
    "</div>"
   ]
  },
  {
   "cell_type": "markdown",
   "metadata": {},
   "source": [
    "# Q1. Create one variable containing following type of data:\n",
    "(i) string\n",
    "(ii) list\n",
    "(iii) float\n",
    "(iv) tuple"
   ]
  },
  {
   "cell_type": "code",
   "execution_count": 6,
   "metadata": {},
   "outputs": [
    {
     "name": "stdout",
     "output_type": "stream",
     "text": [
      "My String: Jatin\n",
      "My List: [8, 1, 2, 5, 3]\n",
      "My Float: 1.43\n",
      "My Tuple: (11, 44, 8)\n"
     ]
    }
   ],
   "source": [
    "# String variable\n",
    "my_string = \"Jatin\"\n",
    "print(\"My String:\",my_string)\n",
    "# List variable\n",
    "my_list = [8, 1, 2, 5, 3]\n",
    "print(\"My List:\",my_list)\n",
    "# Float variable\n",
    "my_float = 1.43\n",
    "print(\"My Float:\",my_float)\n",
    "# Tuple variable\n",
    "my_tuple = (11, 44, 8)\n",
    "print(\"My Tuple:\",my_tuple)"
   ]
  },
  {
   "cell_type": "markdown",
   "metadata": {},
   "source": [
    "# Q2. Given are some following variables containing data:\n",
    "(i) var1 = ‘ ‘\n",
    "(ii) var2 = ‘[ DS , ML , Python]’\n",
    "(iii) var3 = [ ‘DS’ , ’ML’ , ‘Python’ ]\n",
    "(iv) var4 = 1.\n",
    "\n",
    "What will be the data type of the above given variable."
   ]
  },
  {
   "cell_type": "code",
   "execution_count": 11,
   "metadata": {},
   "outputs": [
    {
     "name": "stdout",
     "output_type": "stream",
     "text": [
      "The data type of var1 is <class 'str'>\n",
      "The data type of var2 is <class 'str'>\n",
      "The data type of var3 is <class 'list'>\n",
      "The data type of var4 is <class 'float'>\n"
     ]
    }
   ],
   "source": [
    "var1 = ''\n",
    "print(\"The data type of var1 is\",type(var1))\n",
    "var2 = '[ DS , ML , Python]'\n",
    "print(\"The data type of var2 is\",type(var2))\n",
    "var3 = [ 'DS' , 'ML' , 'Python' ]\n",
    "print(\"The data type of var3 is\",type(var3))\n",
    "var4 = 1.\n",
    "print(\"The data type of var4 is\",type(var4))"
   ]
  },
  {
   "cell_type": "markdown",
   "metadata": {},
   "source": [
    "# Q3. Explain the use of the following operators using an example:\n",
    "(i) /\n",
    "(ii) %\n",
    "(iii) //\n",
    "(iv) **"
   ]
  },
  {
   "cell_type": "code",
   "execution_count": 13,
   "metadata": {},
   "outputs": [
    {
     "name": "stdout",
     "output_type": "stream",
     "text": [
      "Division of 10 and 3 is 3.3333333333333335\n",
      "Division of 10 and 3 is 1\n",
      "Division of 10 and 3 is 3\n",
      "Division of 10 and 3 is 1000\n"
     ]
    }
   ],
   "source": [
    "a = 10\n",
    "b = 3\n",
    "div = a / b\n",
    "mod = a % b\n",
    "floor = a // b\n",
    "power = a ** b\n",
    "print(\"Division of {} and {} is\".format(a,b),div)\n",
    "print(\"Division of {} and {} is\".format(a,b),mod)\n",
    "print(\"Division of {} and {} is\".format(a,b),floor)\n",
    "print(\"Division of {} and {} is\".format(a,b),power)"
   ]
  },
  {
   "cell_type": "markdown",
   "metadata": {},
   "source": [
    "# Q4. Create a list of length 10 of your choice containing multiple types of data. Using for loop print the element and its data type."
   ]
  },
  {
   "cell_type": "code",
   "execution_count": 15,
   "metadata": {},
   "outputs": [
    {
     "name": "stdout",
     "output_type": "stream",
     "text": [
      "Element: 10\n",
      "Data Type: <class 'int'>\n",
      "\n",
      "Element: Hello\n",
      "Data Type: <class 'str'>\n",
      "\n",
      "Element: 3.14\n",
      "Data Type: <class 'float'>\n",
      "\n",
      "Element: True\n",
      "Data Type: <class 'bool'>\n",
      "\n",
      "Element: [1, 2, 3]\n",
      "Data Type: <class 'list'>\n",
      "\n",
      "Element: {'name': 'Jatin', 'age': 20}\n",
      "Data Type: <class 'dict'>\n",
      "\n",
      "Element: (4, 5, 6)\n",
      "Data Type: <class 'tuple'>\n",
      "\n",
      "Element: None\n",
      "Data Type: <class 'NoneType'>\n",
      "\n",
      "Element: (5+2j)\n",
      "Data Type: <class 'complex'>\n",
      "\n",
      "Element: False\n",
      "Data Type: <class 'bool'>\n",
      "\n"
     ]
    }
   ],
   "source": [
    "my_list = [10, 'Hello', 3.14, True, [1, 2, 3], {'name': 'Jatin', 'age': 20}, (4, 5, 6), None, 5 + 2j, False]\n",
    "\n",
    "for element in my_list:\n",
    "    print(\"Element:\", element)\n",
    "    print(\"Data Type:\", type(element))\n",
    "    print()"
   ]
  },
  {
   "cell_type": "markdown",
   "metadata": {},
   "source": [
    "# Q5. Using a while loop, verify if the number A is purely divisible by number B and if so then how many times it can be divisible."
   ]
  },
  {
   "cell_type": "code",
   "execution_count": 18,
   "metadata": {},
   "outputs": [
    {
     "name": "stdout",
     "output_type": "stream",
     "text": [
      "Enter A :2\n",
      "Enter B :3\n",
      "Number A is not divisible by B.\n"
     ]
    }
   ],
   "source": [
    "A = int(input(\"Enter A :\"))  \n",
    "B = int(input(\"Enter B :\"))   \n",
    "\n",
    "count = 0\n",
    "\n",
    "while A % B == 0:\n",
    "    A = A / B  \n",
    "    count += 1  \n",
    "\n",
    "if count > 0:\n",
    "    print(\"Number A is divisible by B.\")\n",
    "    print(\"It can be divided\", count, \"times.\")\n",
    "else:\n",
    "    print(\"Number A is not divisible by B.\")"
   ]
  },
  {
   "cell_type": "markdown",
   "metadata": {},
   "source": [
    "# Q6. Create a list containing 25 int type data. Using for loop and if-else condition print if the element is divisible by 3 or not."
   ]
  },
  {
   "cell_type": "code",
   "execution_count": 19,
   "metadata": {},
   "outputs": [
    {
     "name": "stdout",
     "output_type": "stream",
     "text": [
      "12 is divisible by 3\n",
      "15 is divisible by 3\n",
      "7 is not divisible by 3\n",
      "9 is divisible by 3\n",
      "18 is divisible by 3\n",
      "21 is divisible by 3\n",
      "5 is not divisible by 3\n",
      "24 is divisible by 3\n",
      "33 is divisible by 3\n",
      "11 is not divisible by 3\n",
      "30 is divisible by 3\n",
      "14 is not divisible by 3\n",
      "27 is divisible by 3\n",
      "8 is not divisible by 3\n",
      "36 is divisible by 3\n",
      "19 is not divisible by 3\n",
      "22 is not divisible by 3\n",
      "16 is not divisible by 3\n",
      "25 is not divisible by 3\n",
      "6 is divisible by 3\n",
      "13 is not divisible by 3\n",
      "10 is not divisible by 3\n",
      "28 is not divisible by 3\n",
      "17 is not divisible by 3\n",
      "20 is not divisible by 3\n"
     ]
    }
   ],
   "source": [
    "my_list = [12, 15, 7, 9, 18, 21, 5, 24, 33, 11, 30, 14, 27, 8, 36, 19, 22, 16, 25, 6, 13, 10, 28, 17, 20]\n",
    "\n",
    "for element in my_list:\n",
    "    if element % 3 == 0:\n",
    "        print(element, \"is divisible by 3\")\n",
    "    else:\n",
    "        print(element, \"is not divisible by 3\")"
   ]
  },
  {
   "cell_type": "markdown",
   "metadata": {},
   "source": [
    "# Q7. What do you understand about mutable and immutable data types? Give examples for both showing this property."
   ]
  },
  {
   "cell_type": "markdown",
   "metadata": {},
   "source": [
    "Mutable and immutable are terms used to describe the ability to change or modify an object after it has been created. In Python, some data types are mutable, meaning their values can be modified, while others are immutable, meaning their values cannot be changed once assigned.\n",
    "\n",
    "Immutable Data Types:\n",
    "\n",
    "int, float, complex, bool: These numeric data types are immutable. Once assigned, their values cannot be changed."
   ]
  },
  {
   "cell_type": "code",
   "execution_count": 20,
   "metadata": {},
   "outputs": [
    {
     "name": "stdout",
     "output_type": "stream",
     "text": [
      "5\n",
      "10\n"
     ]
    }
   ],
   "source": [
    "x = 5\n",
    "print(x)  \n",
    "\n",
    "x = 10  \n",
    "print(x)\n"
   ]
  },
  {
   "cell_type": "markdown",
   "metadata": {},
   "source": [
    "In the example above, the value of x is assigned as 5 initially, but later it is reassigned with a new value of 10. This demonstrates that the integer data type is immutable."
   ]
  },
  {
   "cell_type": "markdown",
   "metadata": {},
   "source": [
    "Mutable Data Types:\n",
    "\n",
    "list, set, dictionary: These data types are mutable, allowing modifications to their elements or structure."
   ]
  },
  {
   "cell_type": "code",
   "execution_count": 21,
   "metadata": {},
   "outputs": [
    {
     "name": "stdout",
     "output_type": "stream",
     "text": [
      "[1, 2, 3]\n",
      "[1, 2, 3, 4]\n",
      "[10, 2, 3, 4]\n"
     ]
    }
   ],
   "source": [
    "my_list = [1, 2, 3]\n",
    "print(my_list)  \n",
    "\n",
    "my_list.append(4)  \n",
    "print(my_list)  \n",
    "\n",
    "my_list[0] = 10\n",
    "print(my_list)  "
   ]
  },
  {
   "cell_type": "code",
   "execution_count": null,
   "metadata": {},
   "outputs": [],
   "source": []
  }
 ],
 "metadata": {
  "kernelspec": {
   "display_name": "Python 3",
   "language": "python",
   "name": "python3"
  },
  "language_info": {
   "codemirror_mode": {
    "name": "ipython",
    "version": 3
   },
   "file_extension": ".py",
   "mimetype": "text/x-python",
   "name": "python",
   "nbconvert_exporter": "python",
   "pygments_lexer": "ipython3",
   "version": "3.8.5"
  }
 },
 "nbformat": 4,
 "nbformat_minor": 4
}
