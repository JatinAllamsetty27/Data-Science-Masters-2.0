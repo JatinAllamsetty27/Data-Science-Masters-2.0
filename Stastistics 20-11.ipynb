{
 "cells": [
  {
   "cell_type": "markdown",
   "metadata": {},
   "source": [
    "<center><h1 style=\"color:Tomato;\">Statistics 20-11</h1></center>"
   ]
  },
  {
   "cell_type": "markdown",
   "metadata": {},
   "source": [
    "#### Q1. What is Statistics?"
   ]
  },
  {
   "cell_type": "markdown",
   "metadata": {},
   "source": [
    "Statistics is a science of collecting, organising and analysing of data."
   ]
  },
  {
   "cell_type": "markdown",
   "metadata": {},
   "source": [
    "#### Q2. Define the different types of statistics and give an example of when each type might be used."
   ]
  },
  {
   "cell_type": "markdown",
   "metadata": {},
   "source": [
    "There are two types of statistics.\n",
    "<ol>\n",
    "<li>Descriptive Statistics : It consists of organising and summarisation of data.\n",
    "    It consists of Measure of Central Tendency  [Mean, Median, Mode] and Measure of Dispertion [Variance, Standard Deviation]\n",
    "    eg : Find the average marks in a class</li>\n",
    "<li>Inferential Statistics : It consists of using data you have measured to form conclusion, samples.\n",
    "    It has z-test, t-test, chi-square test etc and Hypothesis testing , p value, significance \n",
    "    eg : Voting survey or poll</li>\n",
    "</ol>"
   ]
  },
  {
   "cell_type": "markdown",
   "metadata": {},
   "source": [
    "#### Q3. What are the different types of data and how do they differ from each other? Provide an example of each type of data."
   ]
  },
  {
   "cell_type": "markdown",
   "metadata": {},
   "source": [
    "**Data** : Data are the facts or pieces of information.\n",
    " \n",
    " Data is mainly divided into two types:\n",
    " <ol>\n",
    "    <li>Quantitative : It is a Numerial data</li>\n",
    "    <ul>\n",
    "        <li>Discrete : It consists of whole numbers\n",
    "        eg: No. of Bank accounts, No. of childrens in a family</li>\n",
    "        <li>Continuos : It consists of any value i.e., floating numbers\n",
    "        eg: Weight, Height, Temperature</li>\n",
    "    </ul>\n",
    "    <li>Qualitative : It is based on Quality</li>\n",
    "    <ul>\n",
    "        <li>Nominal : It has specific number of attributes.\n",
    "        eg: Gender, Blood group, color</li>\n",
    "        <li>Ordinal : It is based on rank.\n",
    "        eg: Customer Reviews\n",
    "             Good 1\n",
    "             Bad  3\n",
    "             Satisfactory 2</li>\n",
    "    </ul>\n",
    " </ol>"
   ]
  },
  {
   "cell_type": "markdown",
   "metadata": {},
   "source": [
    "#### Q4. Categorise the following datasets with respect to quantitative and qualitative data types:\n",
    "#### (i) Grading in exam: A+, A, B+, B, C+, C, D, E\n",
    "#### (ii) Colour of mangoes: yellow, green, orange, red\n",
    "#### (iii) Height data of a class: [178.9, 179, 179.5, 176, 177.2, 178.3, 175.8,...]\n",
    "#### (iv) Number of mangoes exported by a farm: [500, 600, 478, 672, ...]"
   ]
  },
  {
   "cell_type": "markdown",
   "metadata": {},
   "source": [
    "<ol>\n",
    "    <li>Ordinal data</li>\n",
    "    <li>Nominal data</li>\n",
    "    <li>Continuos data</li>\n",
    "    <li>Discrete data</li>\n",
    "</ol>\n",
    "    "
   ]
  },
  {
   "cell_type": "markdown",
   "metadata": {},
   "source": [
    "#### Q5. Explain the concept of levels of measurement and give an example of a variable for each level."
   ]
  },
  {
   "cell_type": "markdown",
   "metadata": {},
   "source": [
    "Levels of measurement refer to the different ways that variables can be quantified and classified. There are four levels of measurement in statistics: nominal, ordinal, interval, and ratio. Here’s a brief explanation of each with examples:\n",
    "<ol>\n",
    "<li>Nominal: This is the most basic level of measurement. Nominal scales categorize data without any order. Variables at this level are qualitative and can't be logically ordered. Examples include gender, nationality, or race.\n",
    "</li>\n",
    "<li>Ordinal: This level of measurement deals with data that can be ordered or ranked, but the differences between the data points can't be determined or are meaningless. An example is a satisfaction survey with responses such as \"very satisfied,\" \"satisfied,\" \"neutral,\" \"dissatisfied,\" and \"very dissatisfied.\"\n",
    "</li>\n",
    "<li>Interval: At this level, the data can be ordered, and the exact differences between the values are meaningful. However, there is no true zero point. Temperature in Celsius or Fahrenheit is a common example, as the difference between degrees is the same, but 0 does not indicate the absence of temperature.\n",
    "</li>\n",
    "<li>Ratio: This is the highest level of measurement and includes all the properties of the interval level, but also has a meaningful zero point, which indicates the absence of the variable being measured. Examples include height, weight, and income.\n",
    "</li>\n",
    "</ol>"
   ]
  },
  {
   "cell_type": "markdown",
   "metadata": {},
   "source": [
    "#### Q6. Why is it important to understand the level of measurement when analyzing data? Provide an example to illustrate your answer."
   ]
  },
  {
   "cell_type": "markdown",
   "metadata": {},
   "source": [
    "Understanding the level of measurement is crucial when analyzing data for several reasons:\n",
    "<ol>\n",
    "<li>Appropriate Statistical Tests: Different levels of measurement require different statistical tests. For instance, nominal data might be analyzed using a chi-squared test, whereas interval data might be analyzed using t-tests or ANOVAs.\n",
    "</li>\n",
    "<li>Meaningful Interpretation: The level of measurement can determine whether it makes sense to calculate certain summary statistics. For example, it would be meaningless to calculate the mean of nominal data.\n",
    "</li>\n",
    "<li>Data Aggregation: Knowing the level of measurement helps in deciding how to aggregate data. Averages can be used for interval and ratio data, but not for nominal or ordinal data.\n",
    "</li>\n",
    "<li>Accurate Conclusions: Understanding the level of measurement ensures that the conclusions drawn from the data analysis are valid. Misinterpretation of the data level can lead to invalid conclusions.\n",
    "</li>\n",
    "</ol>\n",
    "Example: Let's consider a survey where respondents are asked about their level of education (with options like 'High School', 'Bachelor’s', 'Master’s', 'Ph.D.') and their income. The level of education is an ordinal variable because it conveys a rank-order. Income is a ratio variable because it has a true zero point (no income) and the differences between values are meaningful."
   ]
  },
  {
   "cell_type": "markdown",
   "metadata": {},
   "source": [
    "#### Q7. How nominal data type is different from ordinal data type."
   ]
  },
  {
   "cell_type": "markdown",
   "metadata": {},
   "source": [
    "Nominal and ordinal data types are both categories of categorical data in statistics, but they are used to represent different types of information:\n",
    "<ol>\n",
    "<li>Nominal Data:\n",
    "\n",
    "Classification: Nominal data categorizes individuals or items into groups without any order or hierarchy. The categories are mutually exclusive, and there is no implied ranking among them.\n",
    "Mathematical Operations: Only mode can be used as a measure of central tendency; mean and median are not meaningful. Mathematical operations (+, -, /, *) are not applicable because the categories cannot be quantified.\n",
    "Examples: Examples of nominal data include gender (male, female, other), blood type (A, B, AB, O), or country of origin.\n",
    "    </li>\n",
    "<li>Ordinal Data:\n",
    "\n",
    "Ranking: Ordinal data also categorizes individuals or items into groups, but unlike nominal data, the categories have a logical or natural order. The rankings can denote an order of magnitude, preference, or successions in time.\n",
    "Mathematical Operations: The median and mode can be used as measures of central tendency, but the mean is not meaningful because the intervals between categories are not necessarily equal. Mathematical operations are still not applicable, although it is possible to say that one rank is higher or lower than another.\n",
    "    </li>\n",
    "    </ol>\n",
    "Examples: Examples of ordinal data include educational levels (high school, undergraduate, graduate), stages of a disease (mild, moderate, severe), or socioeconomic status (low, middle, high income)."
   ]
  },
  {
   "cell_type": "markdown",
   "metadata": {},
   "source": [
    "#### Q8. Which type of plot can be used to display data in terms of range?"
   ]
  },
  {
   "cell_type": "markdown",
   "metadata": {},
   "source": [
    "To display data in terms of range, you can use several types of plots, depending on the specifics of the data and the clarity you want to achieve in your visualization. Here are a few types of plots that are commonly used to display ranges:\n",
    "\n",
    "**Box Plot (Box-and-Whisker Plot):**\n",
    "\n",
    "Shows the distribution of quantitative data in a way that facilitates comparisons between variables or across levels of a categorical variable.\n",
    "The plot displays the median, quartiles, and outliers for each set of data, clearly showing the range.\n",
    "\n",
    "**Bar Chart:**\n",
    "\n",
    "For categorical data, a bar chart can show the range of values by having error bars that extend from the top of each bar to represent the variability or range.\n",
    "Range Plot:\n",
    "\n",
    "Similar to a bar chart but uses lines to connect points representing the maximum and minimum values, emphasizing the range of data.\n",
    "\n",
    "**Candlestick Chart:**\n",
    "\n",
    "Often used in finance, it shows the high, low, opening, and closing prices of a security for a specific period.\n",
    "\n",
    "**High-Low Plot:**\n",
    "\n",
    "Focuses on showing the range of data between a high and low value for each category or period.\n",
    "\n",
    "**Violin Plot:**\n",
    "\n",
    "Similar to a box plot but includes a kernel density estimation on each side, which can show the range and distribution of the data more precisely.\n",
    "\n",
    "**Histogram:**\n",
    "\n",
    "While primarily used for showing frequency distributions, a histogram can also give a sense of the range of the data."
   ]
  },
  {
   "cell_type": "markdown",
   "metadata": {},
   "source": [
    "#### Q9. Describe the difference between descriptive and inferential statistics. Give an example of each type of statistics and explain how they are used."
   ]
  },
  {
   "cell_type": "markdown",
   "metadata": {},
   "source": [
    "Descriptive and inferential statistics are two main branches of statistics that serve different purposes in data analysis:\n",
    "\n",
    "**Descriptive Statistics:**\n",
    "\n",
    "Purpose: Descriptive statistics are used to summarize and describe the features of a dataset. They provide simple summaries about the sample and the measures. These summaries may be either quantitative, i.e., summary statistics, or visual, i.e., charts and plots.\n",
    "Tools: Common tools include measures of central tendency (mean, median, mode), measures of variability (range, variance, standard deviation), and frequency distribution tables, histograms, bar charts, and pie charts.\n",
    "Example: If a school principal wants to understand the overall academic performance of students, they might use descriptive statistics to calculate the average score of all students in a standardized test or create a histogram to visualize the distribution of scores.\n",
    "\n",
    "**Inferential Statistics:**\n",
    "\n",
    "Purpose: Inferential statistics are used to make inferences or generalizations about a population based on a sample of data taken from that population. It involves making predictions or decisions, estimating properties, testing hypotheses, and deriving estimates and their reliability.\n",
    "Tools: Common tools include hypothesis testing (t-tests, chi-square tests), confidence intervals, regression analysis, and analysis of variance (ANOVA).\n",
    "Example: If a medical researcher wants to determine whether a new drug is effective, they would use inferential statistics. They might calculate the confidence interval for the difference in recovery rates between groups who received the drug versus a placebo or conduct a hypothesis test to see if any observed effects are statistically significant."
   ]
  },
  {
   "cell_type": "markdown",
   "metadata": {},
   "source": [
    "#### Q10. What are some common measures of central tendency and variability used in statistics? Explain how each measure can be used to describe a dataset."
   ]
  },
  {
   "cell_type": "markdown",
   "metadata": {},
   "source": [
    "\n",
    "In statistics, measures of central tendency and variability are key to summarizing and understanding data. Here's a brief overview of each:\n",
    "\n",
    "Measures of Central Tendency:\n",
    "\n",
    "**Mean (Arithmetic Average):**\n",
    "\n",
    "Description: The sum of all the values divided by the number of values.\n",
    "Use: The mean is used to find the average value. It's useful for datasets without extreme values, as outliers can skew the mean.\n",
    "\n",
    "**Median:**\n",
    "\n",
    "Description: The middle value when all values are arranged in ascending order.\n",
    "Use: The median is less affected by outliers and skewed data. It is useful for understanding the 'center' of ordinal data or interval/ratio data that is not normally distributed.\n",
    "\n",
    "**Mode:**\n",
    "\n",
    "Description: The most frequently occurring value(s) in a dataset.\n",
    "Use: The mode is used to identify the most common value. It is the only measure of central tendency that can be used with nominal dat"
   ]
  }
 ],
 "metadata": {
  "kernelspec": {
   "display_name": "Python 3",
   "language": "python",
   "name": "python3"
  },
  "language_info": {
   "codemirror_mode": {
    "name": "ipython",
    "version": 3
   },
   "file_extension": ".py",
   "mimetype": "text/x-python",
   "name": "python",
   "nbconvert_exporter": "python",
   "pygments_lexer": "ipython3",
   "version": "3.8.5"
  }
 },
 "nbformat": 4,
 "nbformat_minor": 4
}
